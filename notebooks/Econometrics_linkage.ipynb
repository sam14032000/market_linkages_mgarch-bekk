{
 "cells": [
  {
   "cell_type": "code",
   "execution_count": 1,
   "metadata": {},
   "outputs": [
    {
     "name": "stderr",
     "output_type": "stream",
     "text": [
      "D:\\Anaconda3\\lib\\site-packages\\pandas_datareader\\compat\\__init__.py:7: FutureWarning: pandas.util.testing is deprecated. Use the functions in the public API at pandas.testing instead.\n",
      "  from pandas.util.testing import assert_frame_equal\n"
     ]
    }
   ],
   "source": [
    "#init\n",
    "import numpy as np\n",
    "import pandas as pd\n",
    "import statsmodels.api as sm\n",
    "from statsmodels.tsa.api import VECM, VAR\n",
    "from statsmodels.tsa.vector_ar.vecm import select_coint_rank, select_order, coint_johansen\n",
    "import matplotlib.pyplot as plt\n",
    "from io import BytesIO\n",
    "import pandas_datareader.data as dat_aq\n",
    "from datetime import datetime, timedelta\n",
    "import statsmodels.tsa.api as tsa\n",
    "from functools import partial\n",
    "\n",
    "import seaborn as sns\n",
    "\n",
    "import bekk"
   ]
  },
  {
   "cell_type": "code",
   "execution_count": 3,
   "metadata": {},
   "outputs": [],
   "source": [
    "def ready_data(data, ret_type):\n",
    "    df = pd.DataFrame(index = data.index)\n",
    "    #df.index = data.index\n",
    "    df['Data'] = data\n",
    "    if ret_type == 'pct_chg':\n",
    "        df['pct_chg'] = np.log(df.iloc[:,0].pct_change()*100)\n",
    "        df['pct_chg'].fillna(method = 'bfill', inplace = True)\n",
    "        df.dropna(inplace = True)\n",
    "        return (df.pct_chg[:])\n",
    "    elif ret_type is None:\n",
    "        return df[1:]"
   ]
  },
  {
   "cell_type": "code",
   "execution_count": 4,
   "metadata": {},
   "outputs": [
    {
     "name": "stdout",
     "output_type": "stream",
     "text": [
      "3102\n",
      "3102\n",
      "3102\n",
      "3102\n",
      "3102\n",
      "3102\n",
      "3102\n"
     ]
    }
   ],
   "source": [
    "#import s&p data\n",
    "sp500 = pd.read_csv('^GSPC.csv', header = 0, index_col = 'Date')\n",
    "sp500.index = pd.to_datetime(sp500.index, format = '%d-%m-%y')\n",
    "sp500 = sp500[1:]\n",
    "#sp500 = sp500.resample('W').mean()\n",
    "sp500.head()\n",
    "print(len(sp500))\n",
    "\n",
    "#import nifty50 data\n",
    "nifty = pd.read_csv('^NSEI.csv', header = 0, index_col = 'Date')\n",
    "nifty.index = pd.to_datetime(nifty.index, format = '%d-%m-%y')\n",
    "nifty = nifty.reindex(index = sp500.index, method = 'bfill')\n",
    "nifty.fillna(method = 'bfill', inplace=True)\n",
    "#nifty = nifty.resample('W').mean()\n",
    "nifty.head()\n",
    "print(len(nifty))\n",
    "\n",
    "sing_sti = pd.read_csv('^sti_d.csv', header = 0, index_col = 'Date')\n",
    "sing_sti.index = pd.to_datetime(sing_sti.index, format = '%Y-%m-%d')\n",
    "sing_sti = sing_sti.reindex(index = sp500.index, method = 'bfill')\n",
    "sing_sti.fillna(method = 'bfill', inplace=True)\n",
    "#nifty = nifty.resample('W').mean()\n",
    "#nifty.head()\n",
    "print(len(sing_sti))\n",
    "\n",
    "uk_100 = pd.read_csv('^ukx_d.csv', header = 0, index_col = 'Date')\n",
    "uk_100.index = pd.to_datetime(uk_100.index, format = '%Y-%m-%d')\n",
    "uk_100 = uk_100.reindex(index = sp500.index, method = 'bfill')\n",
    "uk_100.fillna(method = 'bfill', inplace=True)\n",
    "#nifty = nifty.resample('W').mean()\n",
    "#nifty.head()\n",
    "print(len(uk_100))\n",
    "\n",
    "hangseng = pd.read_csv('^hsi_d.csv', header = 0, index_col = 'Date')\n",
    "hangseng.index = pd.to_datetime(hangseng.index, format = '%Y-%m-%d')\n",
    "hangseng = hangseng.reindex(index = sp500.index, method = 'bfill')\n",
    "hangseng.fillna(method = 'bfill', inplace=True)\n",
    "#nifty = nifty.resample('W').mean()\n",
    "#nifty.head()\n",
    "print(len(hangseng))\n",
    "\n",
    "nikkei = pd.read_csv('^nkx_d.csv', header = 0, index_col = 'Date')\n",
    "nikkei.index = pd.to_datetime(nikkei.index, format = '%Y-%m-%d')\n",
    "nikkei = nikkei.reindex(index = sp500.index, method = 'bfill')\n",
    "nikkei.fillna(method = 'bfill', inplace=True)\n",
    "#nifty = nifty.resample('W').mean()\n",
    "#nifty.head()\n",
    "print(len(nikkei))\n",
    "\n",
    "shanghai_comp = pd.read_csv('^shc_d.csv', header = 0, index_col = 'Date')\n",
    "shanghai_comp.index = pd.to_datetime(shanghai_comp.index, format = '%Y-%m-%d')\n",
    "shanghai_comp = shanghai_comp.reindex(index = sp500.index, method = 'bfill')\n",
    "shanghai_comp.fillna(method = 'bfill', inplace=True)\n",
    "#nifty = nifty.resample('W').mean()\n",
    "#nifty.head()\n",
    "print(len(shanghai_comp))"
   ]
  },
  {
   "cell_type": "code",
   "execution_count": 111,
   "metadata": {},
   "outputs": [
    {
     "data": {
      "text/html": [
       "<div>\n",
       "<style scoped>\n",
       "    .dataframe tbody tr th:only-of-type {\n",
       "        vertical-align: middle;\n",
       "    }\n",
       "\n",
       "    .dataframe tbody tr th {\n",
       "        vertical-align: top;\n",
       "    }\n",
       "\n",
       "    .dataframe thead th {\n",
       "        text-align: right;\n",
       "    }\n",
       "</style>\n",
       "<table border=\"1\" class=\"dataframe\">\n",
       "  <thead>\n",
       "    <tr style=\"text-align: right;\">\n",
       "      <th></th>\n",
       "      <th>Open</th>\n",
       "      <th>High</th>\n",
       "      <th>Low</th>\n",
       "      <th>Close</th>\n",
       "      <th>Adj Close</th>\n",
       "      <th>Volume</th>\n",
       "    </tr>\n",
       "    <tr>\n",
       "      <th>Date</th>\n",
       "      <th></th>\n",
       "      <th></th>\n",
       "      <th></th>\n",
       "      <th></th>\n",
       "      <th></th>\n",
       "      <th></th>\n",
       "    </tr>\n",
       "  </thead>\n",
       "  <tbody>\n",
       "    <tr>\n",
       "      <th>2008-01-03</th>\n",
       "      <td>1447.550049</td>\n",
       "      <td>1456.800049</td>\n",
       "      <td>1443.729980</td>\n",
       "      <td>1447.160034</td>\n",
       "      <td>1447.160034</td>\n",
       "      <td>3429500000</td>\n",
       "    </tr>\n",
       "    <tr>\n",
       "      <th>2008-01-04</th>\n",
       "      <td>1444.010010</td>\n",
       "      <td>1444.010010</td>\n",
       "      <td>1411.189941</td>\n",
       "      <td>1411.630005</td>\n",
       "      <td>1411.630005</td>\n",
       "      <td>4166000000</td>\n",
       "    </tr>\n",
       "    <tr>\n",
       "      <th>2008-01-07</th>\n",
       "      <td>1414.069946</td>\n",
       "      <td>1423.869995</td>\n",
       "      <td>1403.449951</td>\n",
       "      <td>1416.180054</td>\n",
       "      <td>1416.180054</td>\n",
       "      <td>4221260000</td>\n",
       "    </tr>\n",
       "    <tr>\n",
       "      <th>2008-01-08</th>\n",
       "      <td>1415.709961</td>\n",
       "      <td>1430.280029</td>\n",
       "      <td>1388.300049</td>\n",
       "      <td>1390.189941</td>\n",
       "      <td>1390.189941</td>\n",
       "      <td>4705390000</td>\n",
       "    </tr>\n",
       "    <tr>\n",
       "      <th>2008-01-09</th>\n",
       "      <td>1390.250000</td>\n",
       "      <td>1409.189941</td>\n",
       "      <td>1378.699951</td>\n",
       "      <td>1409.130005</td>\n",
       "      <td>1409.130005</td>\n",
       "      <td>5351030000</td>\n",
       "    </tr>\n",
       "    <tr>\n",
       "      <th>...</th>\n",
       "      <td>...</td>\n",
       "      <td>...</td>\n",
       "      <td>...</td>\n",
       "      <td>...</td>\n",
       "      <td>...</td>\n",
       "      <td>...</td>\n",
       "    </tr>\n",
       "    <tr>\n",
       "      <th>2020-04-23</th>\n",
       "      <td>2810.419922</td>\n",
       "      <td>2844.899902</td>\n",
       "      <td>2794.260010</td>\n",
       "      <td>2797.800049</td>\n",
       "      <td>2797.800049</td>\n",
       "      <td>5756520000</td>\n",
       "    </tr>\n",
       "    <tr>\n",
       "      <th>2020-04-24</th>\n",
       "      <td>2812.639893</td>\n",
       "      <td>2842.709961</td>\n",
       "      <td>2791.760010</td>\n",
       "      <td>2836.739990</td>\n",
       "      <td>2836.739990</td>\n",
       "      <td>5374480000</td>\n",
       "    </tr>\n",
       "    <tr>\n",
       "      <th>2020-04-27</th>\n",
       "      <td>2854.649902</td>\n",
       "      <td>2887.719971</td>\n",
       "      <td>2852.889893</td>\n",
       "      <td>2878.479980</td>\n",
       "      <td>2878.479980</td>\n",
       "      <td>5194260000</td>\n",
       "    </tr>\n",
       "    <tr>\n",
       "      <th>2020-04-28</th>\n",
       "      <td>2909.959961</td>\n",
       "      <td>2921.149902</td>\n",
       "      <td>2860.709961</td>\n",
       "      <td>2863.389893</td>\n",
       "      <td>2863.389893</td>\n",
       "      <td>5672880000</td>\n",
       "    </tr>\n",
       "    <tr>\n",
       "      <th>2020-04-29</th>\n",
       "      <td>2918.459961</td>\n",
       "      <td>2954.860107</td>\n",
       "      <td>2912.159912</td>\n",
       "      <td>2939.510010</td>\n",
       "      <td>2939.510010</td>\n",
       "      <td>6620140000</td>\n",
       "    </tr>\n",
       "  </tbody>\n",
       "</table>\n",
       "<p>3102 rows × 6 columns</p>\n",
       "</div>"
      ],
      "text/plain": [
       "                   Open         High          Low        Close    Adj Close  \\\n",
       "Date                                                                          \n",
       "2008-01-03  1447.550049  1456.800049  1443.729980  1447.160034  1447.160034   \n",
       "2008-01-04  1444.010010  1444.010010  1411.189941  1411.630005  1411.630005   \n",
       "2008-01-07  1414.069946  1423.869995  1403.449951  1416.180054  1416.180054   \n",
       "2008-01-08  1415.709961  1430.280029  1388.300049  1390.189941  1390.189941   \n",
       "2008-01-09  1390.250000  1409.189941  1378.699951  1409.130005  1409.130005   \n",
       "...                 ...          ...          ...          ...          ...   \n",
       "2020-04-23  2810.419922  2844.899902  2794.260010  2797.800049  2797.800049   \n",
       "2020-04-24  2812.639893  2842.709961  2791.760010  2836.739990  2836.739990   \n",
       "2020-04-27  2854.649902  2887.719971  2852.889893  2878.479980  2878.479980   \n",
       "2020-04-28  2909.959961  2921.149902  2860.709961  2863.389893  2863.389893   \n",
       "2020-04-29  2918.459961  2954.860107  2912.159912  2939.510010  2939.510010   \n",
       "\n",
       "                Volume  \n",
       "Date                    \n",
       "2008-01-03  3429500000  \n",
       "2008-01-04  4166000000  \n",
       "2008-01-07  4221260000  \n",
       "2008-01-08  4705390000  \n",
       "2008-01-09  5351030000  \n",
       "...                ...  \n",
       "2020-04-23  5756520000  \n",
       "2020-04-24  5374480000  \n",
       "2020-04-27  5194260000  \n",
       "2020-04-28  5672880000  \n",
       "2020-04-29  6620140000  \n",
       "\n",
       "[3102 rows x 6 columns]"
      ]
     },
     "execution_count": 111,
     "metadata": {},
     "output_type": "execute_result"
    }
   ],
   "source": [
    "sp500"
   ]
  },
  {
   "cell_type": "code",
   "execution_count": 134,
   "metadata": {},
   "outputs": [
    {
     "data": {
      "text/html": [
       "<div>\n",
       "<style scoped>\n",
       "    .dataframe tbody tr th:only-of-type {\n",
       "        vertical-align: middle;\n",
       "    }\n",
       "\n",
       "    .dataframe tbody tr th {\n",
       "        vertical-align: top;\n",
       "    }\n",
       "\n",
       "    .dataframe thead th {\n",
       "        text-align: right;\n",
       "    }\n",
       "</style>\n",
       "<table border=\"1\" class=\"dataframe\">\n",
       "  <thead>\n",
       "    <tr style=\"text-align: right;\">\n",
       "      <th></th>\n",
       "      <th>Open</th>\n",
       "      <th>High</th>\n",
       "      <th>Low</th>\n",
       "      <th>Close</th>\n",
       "      <th>Volume</th>\n",
       "    </tr>\n",
       "  </thead>\n",
       "  <tbody>\n",
       "    <tr>\n",
       "      <th>count</th>\n",
       "      <td>3102.000000</td>\n",
       "      <td>3102.000000</td>\n",
       "      <td>3102.000000</td>\n",
       "      <td>3102.000000</td>\n",
       "      <td>3.102000e+03</td>\n",
       "    </tr>\n",
       "    <tr>\n",
       "      <th>mean</th>\n",
       "      <td>3007.340854</td>\n",
       "      <td>3021.450380</td>\n",
       "      <td>2991.988936</td>\n",
       "      <td>3006.842160</td>\n",
       "      <td>2.810478e+08</td>\n",
       "    </tr>\n",
       "    <tr>\n",
       "      <th>std</th>\n",
       "      <td>377.425374</td>\n",
       "      <td>373.261575</td>\n",
       "      <td>380.491995</td>\n",
       "      <td>376.429612</td>\n",
       "      <td>1.219368e+08</td>\n",
       "    </tr>\n",
       "    <tr>\n",
       "      <th>min</th>\n",
       "      <td>1461.360000</td>\n",
       "      <td>1485.750000</td>\n",
       "      <td>1455.470000</td>\n",
       "      <td>1456.950000</td>\n",
       "      <td>5.044950e+07</td>\n",
       "    </tr>\n",
       "    <tr>\n",
       "      <th>25%</th>\n",
       "      <td>2855.172500</td>\n",
       "      <td>2871.700000</td>\n",
       "      <td>2840.097500</td>\n",
       "      <td>2854.210000</td>\n",
       "      <td>2.033622e+08</td>\n",
       "    </tr>\n",
       "    <tr>\n",
       "      <th>50%</th>\n",
       "      <td>3094.845000</td>\n",
       "      <td>3110.645000</td>\n",
       "      <td>3082.585000</td>\n",
       "      <td>3096.365000</td>\n",
       "      <td>2.524539e+08</td>\n",
       "    </tr>\n",
       "    <tr>\n",
       "      <th>75%</th>\n",
       "      <td>3245.760000</td>\n",
       "      <td>3256.465000</td>\n",
       "      <td>3231.540000</td>\n",
       "      <td>3243.852500</td>\n",
       "      <td>3.282237e+08</td>\n",
       "    </tr>\n",
       "    <tr>\n",
       "      <th>max</th>\n",
       "      <td>3624.200000</td>\n",
       "      <td>3641.650000</td>\n",
       "      <td>3607.250000</td>\n",
       "      <td>3615.280000</td>\n",
       "      <td>2.189716e+09</td>\n",
       "    </tr>\n",
       "  </tbody>\n",
       "</table>\n",
       "</div>"
      ],
      "text/plain": [
       "              Open         High          Low        Close        Volume\n",
       "count  3102.000000  3102.000000  3102.000000  3102.000000  3.102000e+03\n",
       "mean   3007.340854  3021.450380  2991.988936  3006.842160  2.810478e+08\n",
       "std     377.425374   373.261575   380.491995   376.429612  1.219368e+08\n",
       "min    1461.360000  1485.750000  1455.470000  1456.950000  5.044950e+07\n",
       "25%    2855.172500  2871.700000  2840.097500  2854.210000  2.033622e+08\n",
       "50%    3094.845000  3110.645000  3082.585000  3096.365000  2.524539e+08\n",
       "75%    3245.760000  3256.465000  3231.540000  3243.852500  3.282237e+08\n",
       "max    3624.200000  3641.650000  3607.250000  3615.280000  2.189716e+09"
      ]
     },
     "execution_count": 134,
     "metadata": {},
     "output_type": "execute_result"
    }
   ],
   "source": [
    "sing_sti.describe()"
   ]
  },
  {
   "cell_type": "code",
   "execution_count": 137,
   "metadata": {},
   "outputs": [
    {
     "data": {
      "text/plain": [
       "count    3102.000000\n",
       "mean     2814.238953\n",
       "std       572.815390\n",
       "min      1706.700000\n",
       "25%      2344.790000\n",
       "50%      2852.130000\n",
       "75%      3132.352500\n",
       "max      5497.890000\n",
       "Name: Close, dtype: float64"
      ]
     },
     "execution_count": 137,
     "metadata": {},
     "output_type": "execute_result"
    }
   ],
   "source": [
    "shanghai_comp['Close'].describe()"
   ]
  },
  {
   "cell_type": "code",
   "execution_count": null,
   "metadata": {},
   "outputs": [],
   "source": [
    "writer = pd.ExcelWriter('nifty.xlsx')\n",
    "df['nifty'].describe().to_excel(writer, sheet_name = 'Sheet2')\n",
    "df['nifty'].iloc[0:1000].describe().to_excel(writer, sheet_name = 'Sheet3')\n",
    "df['nifty'].iloc[1001:2001].describe().to_excel(writer, sheet_name = 'Sheet4')\n",
    "df['nifty'].iloc[2002:3002].describe().to_excel(writer, sheet_name = 'Sheet5')\n",
    "writer.save()"
   ]
  },
  {
   "cell_type": "code",
   "execution_count": null,
   "metadata": {},
   "outputs": [],
   "source": [
    "writer = pd.ExcelWriter('nifty.xlsx')\n",
    "df['sp500'].describe().to_excel(writer, sheet_name = 'Sheet2')\n",
    "df['sp500'].iloc[0:1000].describe().to_excel(writer, sheet_name = 'Sheet3')\n",
    "df['sp500'].iloc[1001:2001].describe().to_excel(writer, sheet_name = 'Sheet4')\n",
    "df['sp500'].iloc[2002:3002].describe().to_excel(writer, sheet_name = 'Sheet5')\n",
    "writer.save()"
   ]
  },
  {
   "cell_type": "code",
   "execution_count": 144,
   "metadata": {},
   "outputs": [],
   "source": [
    "writer = pd.ExcelWriter('nifty.xlsx')\n",
    "df['sing_sti'].describe().to_excel(writer, sheet_name = 'Sheet2')\n",
    "df['sing_sti'].iloc[0:1000].describe().to_excel(writer, sheet_name = 'Sheet3')\n",
    "df['sing_sti'].iloc[1001:2001].describe().to_excel(writer, sheet_name = 'Sheet4')\n",
    "df['sing_sti'].iloc[2002:3002].describe().to_excel(writer, sheet_name = 'Sheet5')\n",
    "writer.save()"
   ]
  },
  {
   "cell_type": "code",
   "execution_count": 145,
   "metadata": {},
   "outputs": [],
   "source": [
    "writer = pd.ExcelWriter('nifty.xlsx')\n",
    "df['hangseng'].describe().to_excel(writer, sheet_name = 'Sheet2')\n",
    "df['hangseng'].iloc[0:1000].describe().to_excel(writer, sheet_name = 'Sheet3')\n",
    "df['hangseng'].iloc[1001:2001].describe().to_excel(writer, sheet_name = 'Sheet4')\n",
    "df['hangseng'].iloc[2002:3002].describe().to_excel(writer, sheet_name = 'Sheet5')\n",
    "writer.save()"
   ]
  },
  {
   "cell_type": "code",
   "execution_count": 146,
   "metadata": {},
   "outputs": [],
   "source": [
    "writer = pd.ExcelWriter('nifty.xlsx')\n",
    "df['shanghai_comp'].describe().to_excel(writer, sheet_name = 'Sheet2')\n",
    "df['shanghai_comp'].iloc[0:1000].describe().to_excel(writer, sheet_name = 'Sheet3')\n",
    "df['shanghai_comp'].iloc[1001:2001].describe().to_excel(writer, sheet_name = 'Sheet4')\n",
    "df['shanghai_comp'].iloc[2002:3002].describe().to_excel(writer, sheet_name = 'Sheet5')\n",
    "writer.save()"
   ]
  },
  {
   "cell_type": "code",
   "execution_count": 147,
   "metadata": {},
   "outputs": [],
   "source": [
    "writer = pd.ExcelWriter('nifty.xlsx')\n",
    "df['uk_100'].describe().to_excel(writer, sheet_name = 'Sheet2')\n",
    "df['uk_100'].iloc[0:1000].describe().to_excel(writer, sheet_name = 'Sheet3')\n",
    "df['uk_100'].iloc[1001:2001].describe().to_excel(writer, sheet_name = 'Sheet4')\n",
    "df['uk_100'].iloc[2002:3002].describe().to_excel(writer, sheet_name = 'Sheet5')\n",
    "writer.save()"
   ]
  },
  {
   "cell_type": "code",
   "execution_count": 153,
   "metadata": {},
   "outputs": [],
   "source": [
    "writer = pd.ExcelWriter('nifty.xlsx')\n",
    "df['nikkei'].describe().to_excel(writer, sheet_name = 'Sheet2')\n",
    "df['nikkei'].iloc[0:1000].describe().to_excel(writer, sheet_name = 'Sheet3')\n",
    "df['nikkei'].iloc[1001:2001].describe().to_excel(writer, sheet_name = 'Sheet4')\n",
    "df['nikkei'].iloc[2002:3002].describe().to_excel(writer, sheet_name = 'Sheet5')\n",
    "writer.save()"
   ]
  },
  {
   "cell_type": "code",
   "execution_count": 252,
   "metadata": {},
   "outputs": [
    {
     "data": {
      "text/html": [
       "<div>\n",
       "<style scoped>\n",
       "    .dataframe tbody tr th:only-of-type {\n",
       "        vertical-align: middle;\n",
       "    }\n",
       "\n",
       "    .dataframe tbody tr th {\n",
       "        vertical-align: top;\n",
       "    }\n",
       "\n",
       "    .dataframe thead th {\n",
       "        text-align: right;\n",
       "    }\n",
       "</style>\n",
       "<table border=\"1\" class=\"dataframe\">\n",
       "  <thead>\n",
       "    <tr style=\"text-align: right;\">\n",
       "      <th></th>\n",
       "      <th>Open</th>\n",
       "      <th>High</th>\n",
       "      <th>Low</th>\n",
       "      <th>Close</th>\n",
       "      <th>Adj Close</th>\n",
       "      <th>Volume</th>\n",
       "      <th>pct_chg</th>\n",
       "    </tr>\n",
       "  </thead>\n",
       "  <tbody>\n",
       "    <tr>\n",
       "      <th>count</th>\n",
       "      <td>3103.000000</td>\n",
       "      <td>3103.000000</td>\n",
       "      <td>3103.000000</td>\n",
       "      <td>3103.000000</td>\n",
       "      <td>3103.000000</td>\n",
       "      <td>3.103000e+03</td>\n",
       "      <td>3103.000000</td>\n",
       "    </tr>\n",
       "    <tr>\n",
       "      <th>mean</th>\n",
       "      <td>1846.340953</td>\n",
       "      <td>1856.501921</td>\n",
       "      <td>1835.223236</td>\n",
       "      <td>1846.617836</td>\n",
       "      <td>1846.617836</td>\n",
       "      <td>4.017161e+09</td>\n",
       "      <td>0.031793</td>\n",
       "    </tr>\n",
       "    <tr>\n",
       "      <th>std</th>\n",
       "      <td>656.341772</td>\n",
       "      <td>657.472847</td>\n",
       "      <td>654.994202</td>\n",
       "      <td>656.350739</td>\n",
       "      <td>656.350739</td>\n",
       "      <td>1.154684e+09</td>\n",
       "      <td>1.336334</td>\n",
       "    </tr>\n",
       "    <tr>\n",
       "      <th>min</th>\n",
       "      <td>679.280029</td>\n",
       "      <td>695.270020</td>\n",
       "      <td>666.789978</td>\n",
       "      <td>676.530029</td>\n",
       "      <td>676.530029</td>\n",
       "      <td>1.025000e+09</td>\n",
       "      <td>-11.984055</td>\n",
       "    </tr>\n",
       "    <tr>\n",
       "      <th>25%</th>\n",
       "      <td>1287.849976</td>\n",
       "      <td>1296.339966</td>\n",
       "      <td>1277.500000</td>\n",
       "      <td>1288.005005</td>\n",
       "      <td>1288.005005</td>\n",
       "      <td>3.317005e+09</td>\n",
       "      <td>-0.396893</td>\n",
       "    </tr>\n",
       "    <tr>\n",
       "      <th>50%</th>\n",
       "      <td>1845.069946</td>\n",
       "      <td>1852.650024</td>\n",
       "      <td>1835.599976</td>\n",
       "      <td>1845.160034</td>\n",
       "      <td>1845.160034</td>\n",
       "      <td>3.732480e+09</td>\n",
       "      <td>0.063435</td>\n",
       "    </tr>\n",
       "    <tr>\n",
       "      <th>75%</th>\n",
       "      <td>2363.305054</td>\n",
       "      <td>2369.715088</td>\n",
       "      <td>2352.109986</td>\n",
       "      <td>2362.900024</td>\n",
       "      <td>2362.900024</td>\n",
       "      <td>4.411275e+09</td>\n",
       "      <td>0.564179</td>\n",
       "    </tr>\n",
       "    <tr>\n",
       "      <th>max</th>\n",
       "      <td>3380.449951</td>\n",
       "      <td>3393.520020</td>\n",
       "      <td>3378.830078</td>\n",
       "      <td>3386.149902</td>\n",
       "      <td>3386.149902</td>\n",
       "      <td>1.145623e+10</td>\n",
       "      <td>11.580037</td>\n",
       "    </tr>\n",
       "  </tbody>\n",
       "</table>\n",
       "</div>"
      ],
      "text/plain": [
       "              Open         High          Low        Close    Adj Close  \\\n",
       "count  3103.000000  3103.000000  3103.000000  3103.000000  3103.000000   \n",
       "mean   1846.340953  1856.501921  1835.223236  1846.617836  1846.617836   \n",
       "std     656.341772   657.472847   654.994202   656.350739   656.350739   \n",
       "min     679.280029   695.270020   666.789978   676.530029   676.530029   \n",
       "25%    1287.849976  1296.339966  1277.500000  1288.005005  1288.005005   \n",
       "50%    1845.069946  1852.650024  1835.599976  1845.160034  1845.160034   \n",
       "75%    2363.305054  2369.715088  2352.109986  2362.900024  2362.900024   \n",
       "max    3380.449951  3393.520020  3378.830078  3386.149902  3386.149902   \n",
       "\n",
       "             Volume      pct_chg  \n",
       "count  3.103000e+03  3103.000000  \n",
       "mean   4.017161e+09     0.031793  \n",
       "std    1.154684e+09     1.336334  \n",
       "min    1.025000e+09   -11.984055  \n",
       "25%    3.317005e+09    -0.396893  \n",
       "50%    3.732480e+09     0.063435  \n",
       "75%    4.411275e+09     0.564179  \n",
       "max    1.145623e+10    11.580037  "
      ]
     },
     "execution_count": 252,
     "metadata": {},
     "output_type": "execute_result"
    }
   ],
   "source": [
    "sp500.describe()"
   ]
  },
  {
   "cell_type": "code",
   "execution_count": 21,
   "metadata": {},
   "outputs": [
    {
     "data": {
      "text/html": [
       "<div>\n",
       "<style scoped>\n",
       "    .dataframe tbody tr th:only-of-type {\n",
       "        vertical-align: middle;\n",
       "    }\n",
       "\n",
       "    .dataframe tbody tr th {\n",
       "        vertical-align: top;\n",
       "    }\n",
       "\n",
       "    .dataframe thead th {\n",
       "        text-align: right;\n",
       "    }\n",
       "</style>\n",
       "<table border=\"1\" class=\"dataframe\">\n",
       "  <thead>\n",
       "    <tr style=\"text-align: right;\">\n",
       "      <th></th>\n",
       "      <th>Open</th>\n",
       "      <th>High</th>\n",
       "      <th>Low</th>\n",
       "      <th>Close</th>\n",
       "      <th>Adj Close</th>\n",
       "      <th>Volume</th>\n",
       "      <th>pct_chg</th>\n",
       "    </tr>\n",
       "  </thead>\n",
       "  <tbody>\n",
       "    <tr>\n",
       "      <th>count</th>\n",
       "      <td>3103.000000</td>\n",
       "      <td>3103.000000</td>\n",
       "      <td>3103.000000</td>\n",
       "      <td>3103.000000</td>\n",
       "      <td>3103.000000</td>\n",
       "      <td>3.103000e+03</td>\n",
       "      <td>3103.000000</td>\n",
       "    </tr>\n",
       "    <tr>\n",
       "      <th>mean</th>\n",
       "      <td>7263.996006</td>\n",
       "      <td>7307.753580</td>\n",
       "      <td>7208.171445</td>\n",
       "      <td>7258.182504</td>\n",
       "      <td>7258.182504</td>\n",
       "      <td>1.377676e+05</td>\n",
       "      <td>0.024097</td>\n",
       "    </tr>\n",
       "    <tr>\n",
       "      <th>std</th>\n",
       "      <td>2488.616993</td>\n",
       "      <td>2486.987846</td>\n",
       "      <td>2483.378346</td>\n",
       "      <td>2484.497558</td>\n",
       "      <td>2484.497558</td>\n",
       "      <td>1.737451e+05</td>\n",
       "      <td>1.416727</td>\n",
       "    </tr>\n",
       "    <tr>\n",
       "      <th>min</th>\n",
       "      <td>2553.600098</td>\n",
       "      <td>2585.300049</td>\n",
       "      <td>2252.750000</td>\n",
       "      <td>2524.199951</td>\n",
       "      <td>2524.199951</td>\n",
       "      <td>0.000000e+00</td>\n",
       "      <td>-14.127216</td>\n",
       "    </tr>\n",
       "    <tr>\n",
       "      <th>25%</th>\n",
       "      <td>5265.649902</td>\n",
       "      <td>5300.550049</td>\n",
       "      <td>5225.699951</td>\n",
       "      <td>5261.425049</td>\n",
       "      <td>5261.425049</td>\n",
       "      <td>0.000000e+00</td>\n",
       "      <td>-0.552278</td>\n",
       "    </tr>\n",
       "    <tr>\n",
       "      <th>50%</th>\n",
       "      <td>6341.350098</td>\n",
       "      <td>6358.299805</td>\n",
       "      <td>6307.549805</td>\n",
       "      <td>6338.950195</td>\n",
       "      <td>6338.950195</td>\n",
       "      <td>1.328000e+05</td>\n",
       "      <td>0.000000</td>\n",
       "    </tr>\n",
       "    <tr>\n",
       "      <th>75%</th>\n",
       "      <td>8975.399903</td>\n",
       "      <td>9041.650391</td>\n",
       "      <td>8901.725097</td>\n",
       "      <td>8949.625000</td>\n",
       "      <td>8949.625000</td>\n",
       "      <td>1.994500e+05</td>\n",
       "      <td>0.620657</td>\n",
       "    </tr>\n",
       "    <tr>\n",
       "      <th>max</th>\n",
       "      <td>12349.400390</td>\n",
       "      <td>12389.049810</td>\n",
       "      <td>12321.400390</td>\n",
       "      <td>12362.299810</td>\n",
       "      <td>12362.299810</td>\n",
       "      <td>1.811000e+06</td>\n",
       "      <td>17.744066</td>\n",
       "    </tr>\n",
       "  </tbody>\n",
       "</table>\n",
       "</div>"
      ],
      "text/plain": [
       "               Open          High           Low         Close     Adj Close  \\\n",
       "count   3103.000000   3103.000000   3103.000000   3103.000000   3103.000000   \n",
       "mean    7263.996006   7307.753580   7208.171445   7258.182504   7258.182504   \n",
       "std     2488.616993   2486.987846   2483.378346   2484.497558   2484.497558   \n",
       "min     2553.600098   2585.300049   2252.750000   2524.199951   2524.199951   \n",
       "25%     5265.649902   5300.550049   5225.699951   5261.425049   5261.425049   \n",
       "50%     6341.350098   6358.299805   6307.549805   6338.950195   6338.950195   \n",
       "75%     8975.399903   9041.650391   8901.725097   8949.625000   8949.625000   \n",
       "max    12349.400390  12389.049810  12321.400390  12362.299810  12362.299810   \n",
       "\n",
       "             Volume      pct_chg  \n",
       "count  3.103000e+03  3103.000000  \n",
       "mean   1.377676e+05     0.024097  \n",
       "std    1.737451e+05     1.416727  \n",
       "min    0.000000e+00   -14.127216  \n",
       "25%    0.000000e+00    -0.552278  \n",
       "50%    1.328000e+05     0.000000  \n",
       "75%    1.994500e+05     0.620657  \n",
       "max    1.811000e+06    17.744066  "
      ]
     },
     "execution_count": 21,
     "metadata": {},
     "output_type": "execute_result"
    }
   ],
   "source": [
    "nifty.describe()"
   ]
  },
  {
   "cell_type": "code",
   "execution_count": 4,
   "metadata": {},
   "outputs": [
    {
     "data": {
      "text/html": [
       "<div>\n",
       "<style scoped>\n",
       "    .dataframe tbody tr th:only-of-type {\n",
       "        vertical-align: middle;\n",
       "    }\n",
       "\n",
       "    .dataframe tbody tr th {\n",
       "        vertical-align: top;\n",
       "    }\n",
       "\n",
       "    .dataframe thead th {\n",
       "        text-align: right;\n",
       "    }\n",
       "</style>\n",
       "<table border=\"1\" class=\"dataframe\">\n",
       "  <thead>\n",
       "    <tr style=\"text-align: right;\">\n",
       "      <th></th>\n",
       "      <th>Open</th>\n",
       "      <th>High</th>\n",
       "      <th>Low</th>\n",
       "      <th>Close</th>\n",
       "      <th>Adj Close</th>\n",
       "      <th>Volume</th>\n",
       "      <th>pct_chg</th>\n",
       "    </tr>\n",
       "  </thead>\n",
       "  <tbody>\n",
       "    <tr>\n",
       "      <th>count</th>\n",
       "      <td>3103.000000</td>\n",
       "      <td>3103.000000</td>\n",
       "      <td>3103.000000</td>\n",
       "      <td>3103.000000</td>\n",
       "      <td>3103.000000</td>\n",
       "      <td>3.103000e+03</td>\n",
       "      <td>3103.000000</td>\n",
       "    </tr>\n",
       "    <tr>\n",
       "      <th>mean</th>\n",
       "      <td>1846.340953</td>\n",
       "      <td>1856.501921</td>\n",
       "      <td>1835.223236</td>\n",
       "      <td>1846.617836</td>\n",
       "      <td>1846.617836</td>\n",
       "      <td>4.017161e+09</td>\n",
       "      <td>0.031793</td>\n",
       "    </tr>\n",
       "    <tr>\n",
       "      <th>std</th>\n",
       "      <td>656.341772</td>\n",
       "      <td>657.472847</td>\n",
       "      <td>654.994202</td>\n",
       "      <td>656.350739</td>\n",
       "      <td>656.350739</td>\n",
       "      <td>1.154684e+09</td>\n",
       "      <td>1.336334</td>\n",
       "    </tr>\n",
       "    <tr>\n",
       "      <th>min</th>\n",
       "      <td>679.280029</td>\n",
       "      <td>695.270020</td>\n",
       "      <td>666.789978</td>\n",
       "      <td>676.530029</td>\n",
       "      <td>676.530029</td>\n",
       "      <td>1.025000e+09</td>\n",
       "      <td>-11.984055</td>\n",
       "    </tr>\n",
       "    <tr>\n",
       "      <th>25%</th>\n",
       "      <td>1287.849976</td>\n",
       "      <td>1296.339966</td>\n",
       "      <td>1277.500000</td>\n",
       "      <td>1288.005005</td>\n",
       "      <td>1288.005005</td>\n",
       "      <td>3.317005e+09</td>\n",
       "      <td>-0.396893</td>\n",
       "    </tr>\n",
       "    <tr>\n",
       "      <th>50%</th>\n",
       "      <td>1845.069946</td>\n",
       "      <td>1852.650024</td>\n",
       "      <td>1835.599976</td>\n",
       "      <td>1845.160034</td>\n",
       "      <td>1845.160034</td>\n",
       "      <td>3.732480e+09</td>\n",
       "      <td>0.063435</td>\n",
       "    </tr>\n",
       "    <tr>\n",
       "      <th>75%</th>\n",
       "      <td>2363.305054</td>\n",
       "      <td>2369.715088</td>\n",
       "      <td>2352.109986</td>\n",
       "      <td>2362.900024</td>\n",
       "      <td>2362.900024</td>\n",
       "      <td>4.411275e+09</td>\n",
       "      <td>0.564179</td>\n",
       "    </tr>\n",
       "    <tr>\n",
       "      <th>max</th>\n",
       "      <td>3380.449951</td>\n",
       "      <td>3393.520020</td>\n",
       "      <td>3378.830078</td>\n",
       "      <td>3386.149902</td>\n",
       "      <td>3386.149902</td>\n",
       "      <td>1.145623e+10</td>\n",
       "      <td>11.580037</td>\n",
       "    </tr>\n",
       "  </tbody>\n",
       "</table>\n",
       "</div>"
      ],
      "text/plain": [
       "              Open         High          Low        Close    Adj Close  \\\n",
       "count  3103.000000  3103.000000  3103.000000  3103.000000  3103.000000   \n",
       "mean   1846.340953  1856.501921  1835.223236  1846.617836  1846.617836   \n",
       "std     656.341772   657.472847   654.994202   656.350739   656.350739   \n",
       "min     679.280029   695.270020   666.789978   676.530029   676.530029   \n",
       "25%    1287.849976  1296.339966  1277.500000  1288.005005  1288.005005   \n",
       "50%    1845.069946  1852.650024  1835.599976  1845.160034  1845.160034   \n",
       "75%    2363.305054  2369.715088  2352.109986  2362.900024  2362.900024   \n",
       "max    3380.449951  3393.520020  3378.830078  3386.149902  3386.149902   \n",
       "\n",
       "             Volume      pct_chg  \n",
       "count  3.103000e+03  3103.000000  \n",
       "mean   4.017161e+09     0.031793  \n",
       "std    1.154684e+09     1.336334  \n",
       "min    1.025000e+09   -11.984055  \n",
       "25%    3.317005e+09    -0.396893  \n",
       "50%    3.732480e+09     0.063435  \n",
       "75%    4.411275e+09     0.564179  \n",
       "max    1.145623e+10    11.580037  "
      ]
     },
     "execution_count": 4,
     "metadata": {},
     "output_type": "execute_result"
    }
   ],
   "source": [
    "sp500['pct_chg'] = ready_data(sp500['Close'], 'pct_chg')\n",
    "sp500['pct_chg'].fillna(method = 'bfill', inplace = True)\n",
    "sp500.describe()"
   ]
  },
  {
   "cell_type": "code",
   "execution_count": 5,
   "metadata": {},
   "outputs": [
    {
     "data": {
      "text/html": [
       "<div>\n",
       "<style scoped>\n",
       "    .dataframe tbody tr th:only-of-type {\n",
       "        vertical-align: middle;\n",
       "    }\n",
       "\n",
       "    .dataframe tbody tr th {\n",
       "        vertical-align: top;\n",
       "    }\n",
       "\n",
       "    .dataframe thead th {\n",
       "        text-align: right;\n",
       "    }\n",
       "</style>\n",
       "<table border=\"1\" class=\"dataframe\">\n",
       "  <thead>\n",
       "    <tr style=\"text-align: right;\">\n",
       "      <th></th>\n",
       "      <th>Open</th>\n",
       "      <th>High</th>\n",
       "      <th>Low</th>\n",
       "      <th>Close</th>\n",
       "      <th>Adj Close</th>\n",
       "      <th>Volume</th>\n",
       "      <th>pct_chg</th>\n",
       "    </tr>\n",
       "  </thead>\n",
       "  <tbody>\n",
       "    <tr>\n",
       "      <th>count</th>\n",
       "      <td>3103.000000</td>\n",
       "      <td>3103.000000</td>\n",
       "      <td>3103.000000</td>\n",
       "      <td>3103.000000</td>\n",
       "      <td>3103.000000</td>\n",
       "      <td>3.103000e+03</td>\n",
       "      <td>3103.000000</td>\n",
       "    </tr>\n",
       "    <tr>\n",
       "      <th>mean</th>\n",
       "      <td>7263.996006</td>\n",
       "      <td>7307.753580</td>\n",
       "      <td>7208.171445</td>\n",
       "      <td>7258.182504</td>\n",
       "      <td>7258.182504</td>\n",
       "      <td>1.377676e+05</td>\n",
       "      <td>0.024097</td>\n",
       "    </tr>\n",
       "    <tr>\n",
       "      <th>std</th>\n",
       "      <td>2488.616993</td>\n",
       "      <td>2486.987846</td>\n",
       "      <td>2483.378346</td>\n",
       "      <td>2484.497558</td>\n",
       "      <td>2484.497558</td>\n",
       "      <td>1.737451e+05</td>\n",
       "      <td>1.416727</td>\n",
       "    </tr>\n",
       "    <tr>\n",
       "      <th>min</th>\n",
       "      <td>2553.600098</td>\n",
       "      <td>2585.300049</td>\n",
       "      <td>2252.750000</td>\n",
       "      <td>2524.199951</td>\n",
       "      <td>2524.199951</td>\n",
       "      <td>0.000000e+00</td>\n",
       "      <td>-14.127216</td>\n",
       "    </tr>\n",
       "    <tr>\n",
       "      <th>25%</th>\n",
       "      <td>5265.649902</td>\n",
       "      <td>5300.550049</td>\n",
       "      <td>5225.699951</td>\n",
       "      <td>5261.425049</td>\n",
       "      <td>5261.425049</td>\n",
       "      <td>0.000000e+00</td>\n",
       "      <td>-0.552278</td>\n",
       "    </tr>\n",
       "    <tr>\n",
       "      <th>50%</th>\n",
       "      <td>6341.350098</td>\n",
       "      <td>6358.299805</td>\n",
       "      <td>6307.549805</td>\n",
       "      <td>6338.950195</td>\n",
       "      <td>6338.950195</td>\n",
       "      <td>1.328000e+05</td>\n",
       "      <td>0.000000</td>\n",
       "    </tr>\n",
       "    <tr>\n",
       "      <th>75%</th>\n",
       "      <td>8975.399903</td>\n",
       "      <td>9041.650391</td>\n",
       "      <td>8901.725097</td>\n",
       "      <td>8949.625000</td>\n",
       "      <td>8949.625000</td>\n",
       "      <td>1.994500e+05</td>\n",
       "      <td>0.620657</td>\n",
       "    </tr>\n",
       "    <tr>\n",
       "      <th>max</th>\n",
       "      <td>12349.400390</td>\n",
       "      <td>12389.049810</td>\n",
       "      <td>12321.400390</td>\n",
       "      <td>12362.299810</td>\n",
       "      <td>12362.299810</td>\n",
       "      <td>1.811000e+06</td>\n",
       "      <td>17.744066</td>\n",
       "    </tr>\n",
       "  </tbody>\n",
       "</table>\n",
       "</div>"
      ],
      "text/plain": [
       "               Open          High           Low         Close     Adj Close  \\\n",
       "count   3103.000000   3103.000000   3103.000000   3103.000000   3103.000000   \n",
       "mean    7263.996006   7307.753580   7208.171445   7258.182504   7258.182504   \n",
       "std     2488.616993   2486.987846   2483.378346   2484.497558   2484.497558   \n",
       "min     2553.600098   2585.300049   2252.750000   2524.199951   2524.199951   \n",
       "25%     5265.649902   5300.550049   5225.699951   5261.425049   5261.425049   \n",
       "50%     6341.350098   6358.299805   6307.549805   6338.950195   6338.950195   \n",
       "75%     8975.399903   9041.650391   8901.725097   8949.625000   8949.625000   \n",
       "max    12349.400390  12389.049810  12321.400390  12362.299810  12362.299810   \n",
       "\n",
       "             Volume      pct_chg  \n",
       "count  3.103000e+03  3103.000000  \n",
       "mean   1.377676e+05     0.024097  \n",
       "std    1.737451e+05     1.416727  \n",
       "min    0.000000e+00   -14.127216  \n",
       "25%    0.000000e+00    -0.552278  \n",
       "50%    1.328000e+05     0.000000  \n",
       "75%    1.994500e+05     0.620657  \n",
       "max    1.811000e+06    17.744066  "
      ]
     },
     "execution_count": 5,
     "metadata": {},
     "output_type": "execute_result"
    }
   ],
   "source": [
    "nifty['pct_chg'] = ready_data(nifty['Close'], 'pct_chg')\n",
    "nifty['pct_chg'].fillna(method = 'bfill', inplace = True)\n",
    "nifty.describe()"
   ]
  },
  {
   "cell_type": "code",
   "execution_count": null,
   "metadata": {},
   "outputs": [],
   "source": [
    "df = pd.DataFrame(index = sp500.iloc[0:].index)\n",
    "df['nifty']"
   ]
  },
  {
   "cell_type": "code",
   "execution_count": null,
   "metadata": {},
   "outputs": [],
   "source": []
  },
  {
   "cell_type": "code",
   "execution_count": null,
   "metadata": {},
   "outputs": [],
   "source": []
  },
  {
   "cell_type": "code",
   "execution_count": null,
   "metadata": {},
   "outputs": [],
   "source": []
  },
  {
   "cell_type": "code",
   "execution_count": null,
   "metadata": {},
   "outputs": [],
   "source": []
  },
  {
   "cell_type": "code",
   "execution_count": 23,
   "metadata": {},
   "outputs": [
    {
     "data": {
      "text/plain": [
       "2.297192975010083"
      ]
     },
     "execution_count": 23,
     "metadata": {},
     "output_type": "execute_result"
    }
   ],
   "source": [
    "sm.stats.stattools.durbin_watson(sp500['pct_chg'])"
   ]
  },
  {
   "cell_type": "code",
   "execution_count": 127,
   "metadata": {},
   "outputs": [],
   "source": [
    "res = sm.tsa.stattools.coint(sp500['Close'], nifty['Close'], maxlag=5, autolag = 't-stat', return_results = True)"
   ]
  },
  {
   "cell_type": "code",
   "execution_count": 128,
   "metadata": {},
   "outputs": [
    {
     "data": {
      "text/plain": [
       "(-3.157084904515578,\n",
       " 0.07740261500870742,\n",
       " array([-3.89997408, -3.33810044, -3.04581753]))"
      ]
     },
     "execution_count": 128,
     "metadata": {},
     "output_type": "execute_result"
    }
   ],
   "source": [
    "res"
   ]
  },
  {
   "cell_type": "code",
   "execution_count": 175,
   "metadata": {},
   "outputs": [],
   "source": [
    "res_adf_diff = sm.tsa.stattools.adfuller(sp500['pct_chg'].iloc[0:1000])"
   ]
  },
  {
   "cell_type": "code",
   "execution_count": 103,
   "metadata": {},
   "outputs": [],
   "source": [
    "res_adf = sm.tsa.stattools.adfuller(sing_sti['Close'].iloc[:])"
   ]
  },
  {
   "cell_type": "code",
   "execution_count": 177,
   "metadata": {},
   "outputs": [
    {
     "data": {
      "text/plain": [
       "(-25.96797485485293,\n",
       " 0.0,\n",
       " 1,\n",
       " 998,\n",
       " {'1%': -3.4369193380671, '5%': -2.864440383452517, '10%': -2.56831430323573},\n",
       " 3921.7358132652907)"
      ]
     },
     "execution_count": 177,
     "metadata": {},
     "output_type": "execute_result"
    }
   ],
   "source": [
    "res_adf_diff"
   ]
  },
  {
   "cell_type": "code",
   "execution_count": 104,
   "metadata": {},
   "outputs": [
    {
     "data": {
      "text/plain": [
       "(-2.3872400641145184,\n",
       " 0.14537024062498627,\n",
       " 19,\n",
       " 3083,\n",
       " {'1%': -3.4324728521095658,\n",
       "  '5%': -2.8624779427668594,\n",
       "  '10%': -2.5672692900180105},\n",
       " 29219.65841141348)"
      ]
     },
     "execution_count": 104,
     "metadata": {},
     "output_type": "execute_result"
    }
   ],
   "source": [
    "res_adf"
   ]
  },
  {
   "cell_type": "code",
   "execution_count": 5,
   "metadata": {},
   "outputs": [
    {
     "name": "stderr",
     "output_type": "stream",
     "text": [
      "D:\\Anaconda3\\lib\\site-packages\\statsmodels\\tsa\\base\\tsa_model.py:218: ValueWarning: A date index has been provided, but it has no associated frequency information and so will be ignored when e.g. forecasting.\n",
      "  ' ignored when e.g. forecasting.', ValueWarning)\n",
      "D:\\Anaconda3\\lib\\site-packages\\statsmodels\\tsa\\base\\tsa_model.py:218: ValueWarning: A date index has been provided, but it has no associated frequency information and so will be ignored when e.g. forecasting.\n",
      "  ' ignored when e.g. forecasting.', ValueWarning)\n",
      "D:\\Anaconda3\\lib\\site-packages\\statsmodels\\tsa\\base\\tsa_model.py:218: ValueWarning: A date index has been provided, but it has no associated frequency information and so will be ignored when e.g. forecasting.\n",
      "  ' ignored when e.g. forecasting.', ValueWarning)\n",
      "D:\\Anaconda3\\lib\\site-packages\\statsmodels\\tsa\\base\\tsa_model.py:218: ValueWarning: A date index has been provided, but it has no associated frequency information and so will be ignored when e.g. forecasting.\n",
      "  ' ignored when e.g. forecasting.', ValueWarning)\n",
      "D:\\Anaconda3\\lib\\site-packages\\statsmodels\\tsa\\base\\tsa_model.py:218: ValueWarning: A date index has been provided, but it has no associated frequency information and so will be ignored when e.g. forecasting.\n",
      "  ' ignored when e.g. forecasting.', ValueWarning)\n",
      "D:\\Anaconda3\\lib\\site-packages\\statsmodels\\tsa\\base\\tsa_model.py:218: ValueWarning: A date index has been provided, but it has no associated frequency information and so will be ignored when e.g. forecasting.\n",
      "  ' ignored when e.g. forecasting.', ValueWarning)\n"
     ]
    },
    {
     "data": {
      "text/html": [
       "<table class=\"simpletable\">\n",
       "<caption>VECM Order Selection (* highlights the minimums)</caption>\n",
       "<tr>\n",
       "  <td></td>      <th>AIC</th>         <th>BIC</th>         <th>FPE</th>        <th>HQIC</th>    \n",
       "</tr>\n",
       "<tr>\n",
       "  <th>0</th> <td>     14.41</td>  <td>     14.42</td>  <td> 1.816e+06</td>  <td>     14.42</td> \n",
       "</tr>\n",
       "<tr>\n",
       "  <th>1</th> <td>     14.36</td>  <td>     14.38</td>  <td> 1.718e+06</td>  <td>     14.36</td> \n",
       "</tr>\n",
       "<tr>\n",
       "  <th>2</th> <td>     14.35</td>  <td>     14.38*</td> <td> 1.703e+06</td>  <td>     14.36*</td>\n",
       "</tr>\n",
       "<tr>\n",
       "  <th>3</th> <td>     14.35*</td> <td>     14.38</td>  <td> 1.703e+06*</td> <td>     14.36</td> \n",
       "</tr>\n",
       "<tr>\n",
       "  <th>4</th> <td>     14.35</td>  <td>     14.39</td>  <td> 1.706e+06</td>  <td>     14.37</td> \n",
       "</tr>\n",
       "<tr>\n",
       "  <th>5</th> <td>     14.35</td>  <td>     14.40</td>  <td> 1.706e+06</td>  <td>     14.37</td> \n",
       "</tr>\n",
       "</table>"
      ],
      "text/plain": [
       "<class 'statsmodels.iolib.table.SimpleTable'>"
      ]
     },
     "execution_count": 5,
     "metadata": {},
     "output_type": "execute_result"
    }
   ],
   "source": [
    "df = pd.DataFrame(index = sp500.iloc[:3000].index)\n",
    "df['nifty'] = nifty['Close']\n",
    "df['sp500'] = sp500['Close']\n",
    "df['sing_sti'] = sing_sti['Close']\n",
    "df['hangseng'] = hangseng['Close']\n",
    "df['shanghai_comp'] = shanghai_comp['Close']\n",
    "df['uk_100'] = uk_100['Close']\n",
    "df['nikkei'] = nikkei['Close']\n",
    "\n",
    "df = df.iloc[:3000]\n",
    "\n",
    "res_order = select_order(df[['nifty','sp500']], maxlags = 5)\n",
    "res_order.vecm = True\n",
    "res_order.summary()"
   ]
  },
  {
   "cell_type": "code",
   "execution_count": 40,
   "metadata": {},
   "outputs": [
    {
     "data": {
      "text/html": [
       "<table class=\"simpletable\">\n",
       "<caption>Johansen cointegration test using maximum eigenvalue test statistic with 5% significance level</caption>\n",
       "<tr>\n",
       "  <th>r_0</th> <th>r_1</th> <th>test statistic</th> <th>critical value</th>\n",
       "</tr>\n",
       "<tr>\n",
       "    <td>0</td>   <td>1</td>          <td>15.86</td>          <td>17.15</td>\n",
       "</tr>\n",
       "</table>"
      ],
      "text/plain": [
       "<class 'statsmodels.iolib.table.SimpleTable'>"
      ]
     },
     "execution_count": 40,
     "metadata": {},
     "output_type": "execute_result"
    }
   ],
   "source": [
    "res_coint_rank = select_coint_rank(df[['nifty','sp500']], det_order = 1, k_ar_diff = 14, method = 'maxeig')\n",
    "res_coint_rank.summary()"
   ]
  },
  {
   "cell_type": "code",
   "execution_count": 41,
   "metadata": {},
   "outputs": [
    {
     "name": "stderr",
     "output_type": "stream",
     "text": [
      "D:\\Anaconda3\\lib\\site-packages\\statsmodels\\tsa\\base\\tsa_model.py:218: ValueWarning: A date index has been provided, but it has no associated frequency information and so will be ignored when e.g. forecasting.\n",
      "  ' ignored when e.g. forecasting.', ValueWarning)\n"
     ]
    },
    {
     "data": {
      "text/html": [
       "<table class=\"simpletable\">\n",
       "<caption>Det. terms outside the coint. relation & lagged endog. parameters for equation nifty</caption>\n",
       "<tr>\n",
       "      <td></td>         <th>coef</th>     <th>std err</th>      <th>z</th>      <th>P>|z|</th>  <th>[0.025</th>    <th>0.975]</th>  \n",
       "</tr>\n",
       "<tr>\n",
       "  <th>L1.nifty</th>  <td>   -0.0234</td> <td>    0.019</td> <td>   -1.230</td> <td> 0.219</td> <td>   -0.061</td> <td>    0.014</td>\n",
       "</tr>\n",
       "<tr>\n",
       "  <th>L1.sp500</th>  <td>    0.9494</td> <td>    0.076</td> <td>   12.423</td> <td> 0.000</td> <td>    0.800</td> <td>    1.099</td>\n",
       "</tr>\n",
       "<tr>\n",
       "  <th>L2.nifty</th>  <td>   -0.0026</td> <td>    0.019</td> <td>   -0.140</td> <td> 0.889</td> <td>   -0.039</td> <td>    0.034</td>\n",
       "</tr>\n",
       "<tr>\n",
       "  <th>L2.sp500</th>  <td>    0.2945</td> <td>    0.079</td> <td>    3.732</td> <td> 0.000</td> <td>    0.140</td> <td>    0.449</td>\n",
       "</tr>\n",
       "<tr>\n",
       "  <th>L3.nifty</th>  <td>   -0.0427</td> <td>    0.019</td> <td>   -2.292</td> <td> 0.022</td> <td>   -0.079</td> <td>   -0.006</td>\n",
       "</tr>\n",
       "<tr>\n",
       "  <th>L3.sp500</th>  <td>    0.1162</td> <td>    0.079</td> <td>    1.468</td> <td> 0.142</td> <td>   -0.039</td> <td>    0.271</td>\n",
       "</tr>\n",
       "<tr>\n",
       "  <th>L4.nifty</th>  <td>   -0.0210</td> <td>    0.019</td> <td>   -1.130</td> <td> 0.258</td> <td>   -0.058</td> <td>    0.015</td>\n",
       "</tr>\n",
       "<tr>\n",
       "  <th>L4.sp500</th>  <td>   -0.0699</td> <td>    0.079</td> <td>   -0.883</td> <td> 0.377</td> <td>   -0.225</td> <td>    0.085</td>\n",
       "</tr>\n",
       "<tr>\n",
       "  <th>L5.nifty</th>  <td>   -0.0169</td> <td>    0.019</td> <td>   -0.907</td> <td> 0.364</td> <td>   -0.053</td> <td>    0.020</td>\n",
       "</tr>\n",
       "<tr>\n",
       "  <th>L5.sp500</th>  <td>   -0.0964</td> <td>    0.079</td> <td>   -1.217</td> <td> 0.224</td> <td>   -0.252</td> <td>    0.059</td>\n",
       "</tr>\n",
       "<tr>\n",
       "  <th>L6.nifty</th>  <td>   -0.0486</td> <td>    0.019</td> <td>   -2.617</td> <td> 0.009</td> <td>   -0.085</td> <td>   -0.012</td>\n",
       "</tr>\n",
       "<tr>\n",
       "  <th>L6.sp500</th>  <td>    0.1689</td> <td>    0.079</td> <td>    2.133</td> <td> 0.033</td> <td>    0.014</td> <td>    0.324</td>\n",
       "</tr>\n",
       "<tr>\n",
       "  <th>L7.nifty</th>  <td>    0.0071</td> <td>    0.019</td> <td>    0.383</td> <td> 0.701</td> <td>   -0.029</td> <td>    0.044</td>\n",
       "</tr>\n",
       "<tr>\n",
       "  <th>L7.sp500</th>  <td>   -0.0044</td> <td>    0.079</td> <td>   -0.055</td> <td> 0.956</td> <td>   -0.160</td> <td>    0.151</td>\n",
       "</tr>\n",
       "<tr>\n",
       "  <th>L8.nifty</th>  <td>    0.0048</td> <td>    0.019</td> <td>    0.257</td> <td> 0.798</td> <td>   -0.032</td> <td>    0.041</td>\n",
       "</tr>\n",
       "<tr>\n",
       "  <th>L8.sp500</th>  <td>    0.0326</td> <td>    0.079</td> <td>    0.412</td> <td> 0.681</td> <td>   -0.123</td> <td>    0.188</td>\n",
       "</tr>\n",
       "<tr>\n",
       "  <th>L9.nifty</th>  <td>    0.0640</td> <td>    0.019</td> <td>    3.447</td> <td> 0.001</td> <td>    0.028</td> <td>    0.100</td>\n",
       "</tr>\n",
       "<tr>\n",
       "  <th>L9.sp500</th>  <td>   -0.0431</td> <td>    0.079</td> <td>   -0.545</td> <td> 0.586</td> <td>   -0.198</td> <td>    0.112</td>\n",
       "</tr>\n",
       "<tr>\n",
       "  <th>L10.nifty</th> <td>   -0.0443</td> <td>    0.019</td> <td>   -2.379</td> <td> 0.017</td> <td>   -0.081</td> <td>   -0.008</td>\n",
       "</tr>\n",
       "<tr>\n",
       "  <th>L10.sp500</th> <td>   -0.1190</td> <td>    0.079</td> <td>   -1.506</td> <td> 0.132</td> <td>   -0.274</td> <td>    0.036</td>\n",
       "</tr>\n",
       "<tr>\n",
       "  <th>L11.nifty</th> <td>   -0.0107</td> <td>    0.019</td> <td>   -0.577</td> <td> 0.564</td> <td>   -0.047</td> <td>    0.026</td>\n",
       "</tr>\n",
       "<tr>\n",
       "  <th>L11.sp500</th> <td>    0.2125</td> <td>    0.079</td> <td>    2.690</td> <td> 0.007</td> <td>    0.058</td> <td>    0.367</td>\n",
       "</tr>\n",
       "<tr>\n",
       "  <th>L12.nifty</th> <td>    0.0142</td> <td>    0.019</td> <td>    0.766</td> <td> 0.444</td> <td>   -0.022</td> <td>    0.051</td>\n",
       "</tr>\n",
       "<tr>\n",
       "  <th>L12.sp500</th> <td>    0.0334</td> <td>    0.079</td> <td>    0.423</td> <td> 0.673</td> <td>   -0.122</td> <td>    0.188</td>\n",
       "</tr>\n",
       "<tr>\n",
       "  <th>L13.nifty</th> <td>    0.0105</td> <td>    0.019</td> <td>    0.569</td> <td> 0.569</td> <td>   -0.026</td> <td>    0.047</td>\n",
       "</tr>\n",
       "<tr>\n",
       "  <th>L13.sp500</th> <td>    0.0479</td> <td>    0.079</td> <td>    0.608</td> <td> 0.543</td> <td>   -0.107</td> <td>    0.202</td>\n",
       "</tr>\n",
       "<tr>\n",
       "  <th>L14.nifty</th> <td>    0.0170</td> <td>    0.018</td> <td>    0.943</td> <td> 0.346</td> <td>   -0.018</td> <td>    0.052</td>\n",
       "</tr>\n",
       "<tr>\n",
       "  <th>L14.sp500</th> <td>   -0.1263</td> <td>    0.078</td> <td>   -1.616</td> <td> 0.106</td> <td>   -0.279</td> <td>    0.027</td>\n",
       "</tr>\n",
       "</table>\n",
       "<table class=\"simpletable\">\n",
       "<caption>Det. terms outside the coint. relation & lagged endog. parameters for equation sp500</caption>\n",
       "<tr>\n",
       "      <td></td>         <th>coef</th>     <th>std err</th>      <th>z</th>      <th>P>|z|</th>  <th>[0.025</th>    <th>0.975]</th>  \n",
       "</tr>\n",
       "<tr>\n",
       "  <th>L1.nifty</th>  <td>    0.0046</td> <td>    0.005</td> <td>    0.981</td> <td> 0.326</td> <td>   -0.005</td> <td>    0.014</td>\n",
       "</tr>\n",
       "<tr>\n",
       "  <th>L1.sp500</th>  <td>   -0.0583</td> <td>    0.019</td> <td>   -3.080</td> <td> 0.002</td> <td>   -0.095</td> <td>   -0.021</td>\n",
       "</tr>\n",
       "<tr>\n",
       "  <th>L2.nifty</th>  <td> -4.79e-05</td> <td>    0.005</td> <td>   -0.010</td> <td> 0.992</td> <td>   -0.009</td> <td>    0.009</td>\n",
       "</tr>\n",
       "<tr>\n",
       "  <th>L2.sp500</th>  <td>   -0.0490</td> <td>    0.020</td> <td>   -2.509</td> <td> 0.012</td> <td>   -0.087</td> <td>   -0.011</td>\n",
       "</tr>\n",
       "<tr>\n",
       "  <th>L3.nifty</th>  <td>   -0.0069</td> <td>    0.005</td> <td>   -1.497</td> <td> 0.134</td> <td>   -0.016</td> <td>    0.002</td>\n",
       "</tr>\n",
       "<tr>\n",
       "  <th>L3.sp500</th>  <td>    0.0208</td> <td>    0.020</td> <td>    1.058</td> <td> 0.290</td> <td>   -0.018</td> <td>    0.059</td>\n",
       "</tr>\n",
       "<tr>\n",
       "  <th>L4.nifty</th>  <td>    0.0029</td> <td>    0.005</td> <td>    0.636</td> <td> 0.525</td> <td>   -0.006</td> <td>    0.012</td>\n",
       "</tr>\n",
       "<tr>\n",
       "  <th>L4.sp500</th>  <td>   -0.0218</td> <td>    0.020</td> <td>   -1.111</td> <td> 0.266</td> <td>   -0.060</td> <td>    0.017</td>\n",
       "</tr>\n",
       "<tr>\n",
       "  <th>L5.nifty</th>  <td>   -0.0004</td> <td>    0.005</td> <td>   -0.088</td> <td> 0.930</td> <td>   -0.009</td> <td>    0.009</td>\n",
       "</tr>\n",
       "<tr>\n",
       "  <th>L5.sp500</th>  <td>   -0.0431</td> <td>    0.020</td> <td>   -2.196</td> <td> 0.028</td> <td>   -0.082</td> <td>   -0.005</td>\n",
       "</tr>\n",
       "<tr>\n",
       "  <th>L6.nifty</th>  <td>    0.0012</td> <td>    0.005</td> <td>    0.262</td> <td> 0.793</td> <td>   -0.008</td> <td>    0.010</td>\n",
       "</tr>\n",
       "<tr>\n",
       "  <th>L6.sp500</th>  <td>   -0.0074</td> <td>    0.020</td> <td>   -0.377</td> <td> 0.707</td> <td>   -0.046</td> <td>    0.031</td>\n",
       "</tr>\n",
       "<tr>\n",
       "  <th>L7.nifty</th>  <td>    0.0021</td> <td>    0.005</td> <td>    0.451</td> <td> 0.652</td> <td>   -0.007</td> <td>    0.011</td>\n",
       "</tr>\n",
       "<tr>\n",
       "  <th>L7.sp500</th>  <td>    0.0095</td> <td>    0.020</td> <td>    0.484</td> <td> 0.628</td> <td>   -0.029</td> <td>    0.048</td>\n",
       "</tr>\n",
       "<tr>\n",
       "  <th>L8.nifty</th>  <td>   -0.0108</td> <td>    0.005</td> <td>   -2.353</td> <td> 0.019</td> <td>   -0.020</td> <td>   -0.002</td>\n",
       "</tr>\n",
       "<tr>\n",
       "  <th>L8.sp500</th>  <td>   -0.0098</td> <td>    0.020</td> <td>   -0.498</td> <td> 0.619</td> <td>   -0.048</td> <td>    0.029</td>\n",
       "</tr>\n",
       "<tr>\n",
       "  <th>L9.nifty</th>  <td>    0.0123</td> <td>    0.005</td> <td>    2.675</td> <td> 0.007</td> <td>    0.003</td> <td>    0.021</td>\n",
       "</tr>\n",
       "<tr>\n",
       "  <th>L9.sp500</th>  <td>   -0.0145</td> <td>    0.020</td> <td>   -0.741</td> <td> 0.458</td> <td>   -0.053</td> <td>    0.024</td>\n",
       "</tr>\n",
       "<tr>\n",
       "  <th>L10.nifty</th> <td>   -0.0041</td> <td>    0.005</td> <td>   -0.899</td> <td> 0.369</td> <td>   -0.013</td> <td>    0.005</td>\n",
       "</tr>\n",
       "<tr>\n",
       "  <th>L10.sp500</th> <td>    0.0010</td> <td>    0.020</td> <td>    0.050</td> <td> 0.960</td> <td>   -0.037</td> <td>    0.039</td>\n",
       "</tr>\n",
       "<tr>\n",
       "  <th>L11.nifty</th> <td>   -0.0048</td> <td>    0.005</td> <td>   -1.038</td> <td> 0.299</td> <td>   -0.014</td> <td>    0.004</td>\n",
       "</tr>\n",
       "<tr>\n",
       "  <th>L11.sp500</th> <td>   -0.0047</td> <td>    0.020</td> <td>   -0.242</td> <td> 0.809</td> <td>   -0.043</td> <td>    0.034</td>\n",
       "</tr>\n",
       "<tr>\n",
       "  <th>L12.nifty</th> <td>    0.0016</td> <td>    0.005</td> <td>    0.358</td> <td> 0.720</td> <td>   -0.007</td> <td>    0.011</td>\n",
       "</tr>\n",
       "<tr>\n",
       "  <th>L12.sp500</th> <td>    0.0185</td> <td>    0.020</td> <td>    0.946</td> <td> 0.344</td> <td>   -0.020</td> <td>    0.057</td>\n",
       "</tr>\n",
       "<tr>\n",
       "  <th>L13.nifty</th> <td>    0.0049</td> <td>    0.005</td> <td>    1.072</td> <td> 0.284</td> <td>   -0.004</td> <td>    0.014</td>\n",
       "</tr>\n",
       "<tr>\n",
       "  <th>L13.sp500</th> <td>   -0.0148</td> <td>    0.020</td> <td>   -0.757</td> <td> 0.449</td> <td>   -0.053</td> <td>    0.023</td>\n",
       "</tr>\n",
       "<tr>\n",
       "  <th>L14.nifty</th> <td>   -0.0008</td> <td>    0.004</td> <td>   -0.173</td> <td> 0.863</td> <td>   -0.010</td> <td>    0.008</td>\n",
       "</tr>\n",
       "<tr>\n",
       "  <th>L14.sp500</th> <td>   -0.0439</td> <td>    0.019</td> <td>   -2.267</td> <td> 0.023</td> <td>   -0.082</td> <td>   -0.006</td>\n",
       "</tr>\n",
       "</table>\n",
       "<table class=\"simpletable\">\n",
       "<caption>Loading coefficients (alpha) for equation nifty</caption>\n",
       "<tr>\n",
       "   <td></td>      <th>coef</th>     <th>std err</th>      <th>z</th>      <th>P>|z|</th>  <th>[0.025</th>    <th>0.975]</th>  \n",
       "</tr>\n",
       "<tr>\n",
       "  <th>ec1</th> <td>    0.0017</td> <td>    0.001</td> <td>    1.435</td> <td> 0.151</td> <td>   -0.001</td> <td>    0.004</td>\n",
       "</tr>\n",
       "</table>\n",
       "<table class=\"simpletable\">\n",
       "<caption>Loading coefficients (alpha) for equation sp500</caption>\n",
       "<tr>\n",
       "   <td></td>      <th>coef</th>     <th>std err</th>      <th>z</th>      <th>P>|z|</th>  <th>[0.025</th>    <th>0.975]</th>  \n",
       "</tr>\n",
       "<tr>\n",
       "  <th>ec1</th> <td>    0.0014</td> <td>    0.000</td> <td>    4.789</td> <td> 0.000</td> <td>    0.001</td> <td>    0.002</td>\n",
       "</tr>\n",
       "</table>\n",
       "<table class=\"simpletable\">\n",
       "<caption>Cointegration relations for loading-coefficients-column 1</caption>\n",
       "<tr>\n",
       "      <td></td>         <th>coef</th>     <th>std err</th>      <th>z</th>      <th>P>|z|</th>  <th>[0.025</th>    <th>0.975]</th>  \n",
       "</tr>\n",
       "<tr>\n",
       "  <th>beta.1</th>    <td>    1.0000</td> <td>        0</td> <td>        0</td> <td> 0.000</td> <td>    1.000</td> <td>    1.000</td>\n",
       "</tr>\n",
       "<tr>\n",
       "  <th>beta.2</th>    <td>   -7.8521</td> <td>    1.406</td> <td>   -5.583</td> <td> 0.000</td> <td>  -10.609</td> <td>   -5.096</td>\n",
       "</tr>\n",
       "<tr>\n",
       "  <th>const</th>     <td> 2540.1941</td> <td> 1161.551</td> <td>    2.187</td> <td> 0.029</td> <td>  263.595</td> <td> 4816.793</td>\n",
       "</tr>\n",
       "<tr>\n",
       "  <th>lin_trend</th> <td>    3.3508</td> <td>    1.022</td> <td>    3.277</td> <td> 0.001</td> <td>    1.347</td> <td>    5.355</td>\n",
       "</tr>\n",
       "</table>"
      ],
      "text/plain": [
       "<class 'statsmodels.iolib.summary.Summary'>\n",
       "\"\"\"\n",
       "Det. terms outside the coint. relation & lagged endog. parameters for equation nifty\n",
       "==============================================================================\n",
       "                 coef    std err          z      P>|z|      [0.025      0.975]\n",
       "------------------------------------------------------------------------------\n",
       "L1.nifty      -0.0234      0.019     -1.230      0.219      -0.061       0.014\n",
       "L1.sp500       0.9494      0.076     12.423      0.000       0.800       1.099\n",
       "L2.nifty      -0.0026      0.019     -0.140      0.889      -0.039       0.034\n",
       "L2.sp500       0.2945      0.079      3.732      0.000       0.140       0.449\n",
       "L3.nifty      -0.0427      0.019     -2.292      0.022      -0.079      -0.006\n",
       "L3.sp500       0.1162      0.079      1.468      0.142      -0.039       0.271\n",
       "L4.nifty      -0.0210      0.019     -1.130      0.258      -0.058       0.015\n",
       "L4.sp500      -0.0699      0.079     -0.883      0.377      -0.225       0.085\n",
       "L5.nifty      -0.0169      0.019     -0.907      0.364      -0.053       0.020\n",
       "L5.sp500      -0.0964      0.079     -1.217      0.224      -0.252       0.059\n",
       "L6.nifty      -0.0486      0.019     -2.617      0.009      -0.085      -0.012\n",
       "L6.sp500       0.1689      0.079      2.133      0.033       0.014       0.324\n",
       "L7.nifty       0.0071      0.019      0.383      0.701      -0.029       0.044\n",
       "L7.sp500      -0.0044      0.079     -0.055      0.956      -0.160       0.151\n",
       "L8.nifty       0.0048      0.019      0.257      0.798      -0.032       0.041\n",
       "L8.sp500       0.0326      0.079      0.412      0.681      -0.123       0.188\n",
       "L9.nifty       0.0640      0.019      3.447      0.001       0.028       0.100\n",
       "L9.sp500      -0.0431      0.079     -0.545      0.586      -0.198       0.112\n",
       "L10.nifty     -0.0443      0.019     -2.379      0.017      -0.081      -0.008\n",
       "L10.sp500     -0.1190      0.079     -1.506      0.132      -0.274       0.036\n",
       "L11.nifty     -0.0107      0.019     -0.577      0.564      -0.047       0.026\n",
       "L11.sp500      0.2125      0.079      2.690      0.007       0.058       0.367\n",
       "L12.nifty      0.0142      0.019      0.766      0.444      -0.022       0.051\n",
       "L12.sp500      0.0334      0.079      0.423      0.673      -0.122       0.188\n",
       "L13.nifty      0.0105      0.019      0.569      0.569      -0.026       0.047\n",
       "L13.sp500      0.0479      0.079      0.608      0.543      -0.107       0.202\n",
       "L14.nifty      0.0170      0.018      0.943      0.346      -0.018       0.052\n",
       "L14.sp500     -0.1263      0.078     -1.616      0.106      -0.279       0.027\n",
       "Det. terms outside the coint. relation & lagged endog. parameters for equation sp500\n",
       "==============================================================================\n",
       "                 coef    std err          z      P>|z|      [0.025      0.975]\n",
       "------------------------------------------------------------------------------\n",
       "L1.nifty       0.0046      0.005      0.981      0.326      -0.005       0.014\n",
       "L1.sp500      -0.0583      0.019     -3.080      0.002      -0.095      -0.021\n",
       "L2.nifty    -4.79e-05      0.005     -0.010      0.992      -0.009       0.009\n",
       "L2.sp500      -0.0490      0.020     -2.509      0.012      -0.087      -0.011\n",
       "L3.nifty      -0.0069      0.005     -1.497      0.134      -0.016       0.002\n",
       "L3.sp500       0.0208      0.020      1.058      0.290      -0.018       0.059\n",
       "L4.nifty       0.0029      0.005      0.636      0.525      -0.006       0.012\n",
       "L4.sp500      -0.0218      0.020     -1.111      0.266      -0.060       0.017\n",
       "L5.nifty      -0.0004      0.005     -0.088      0.930      -0.009       0.009\n",
       "L5.sp500      -0.0431      0.020     -2.196      0.028      -0.082      -0.005\n",
       "L6.nifty       0.0012      0.005      0.262      0.793      -0.008       0.010\n",
       "L6.sp500      -0.0074      0.020     -0.377      0.707      -0.046       0.031\n",
       "L7.nifty       0.0021      0.005      0.451      0.652      -0.007       0.011\n",
       "L7.sp500       0.0095      0.020      0.484      0.628      -0.029       0.048\n",
       "L8.nifty      -0.0108      0.005     -2.353      0.019      -0.020      -0.002\n",
       "L8.sp500      -0.0098      0.020     -0.498      0.619      -0.048       0.029\n",
       "L9.nifty       0.0123      0.005      2.675      0.007       0.003       0.021\n",
       "L9.sp500      -0.0145      0.020     -0.741      0.458      -0.053       0.024\n",
       "L10.nifty     -0.0041      0.005     -0.899      0.369      -0.013       0.005\n",
       "L10.sp500      0.0010      0.020      0.050      0.960      -0.037       0.039\n",
       "L11.nifty     -0.0048      0.005     -1.038      0.299      -0.014       0.004\n",
       "L11.sp500     -0.0047      0.020     -0.242      0.809      -0.043       0.034\n",
       "L12.nifty      0.0016      0.005      0.358      0.720      -0.007       0.011\n",
       "L12.sp500      0.0185      0.020      0.946      0.344      -0.020       0.057\n",
       "L13.nifty      0.0049      0.005      1.072      0.284      -0.004       0.014\n",
       "L13.sp500     -0.0148      0.020     -0.757      0.449      -0.053       0.023\n",
       "L14.nifty     -0.0008      0.004     -0.173      0.863      -0.010       0.008\n",
       "L14.sp500     -0.0439      0.019     -2.267      0.023      -0.082      -0.006\n",
       "               Loading coefficients (alpha) for equation nifty                \n",
       "==============================================================================\n",
       "                 coef    std err          z      P>|z|      [0.025      0.975]\n",
       "------------------------------------------------------------------------------\n",
       "ec1            0.0017      0.001      1.435      0.151      -0.001       0.004\n",
       "               Loading coefficients (alpha) for equation sp500                \n",
       "==============================================================================\n",
       "                 coef    std err          z      P>|z|      [0.025      0.975]\n",
       "------------------------------------------------------------------------------\n",
       "ec1            0.0014      0.000      4.789      0.000       0.001       0.002\n",
       "          Cointegration relations for loading-coefficients-column 1           \n",
       "==============================================================================\n",
       "                 coef    std err          z      P>|z|      [0.025      0.975]\n",
       "------------------------------------------------------------------------------\n",
       "beta.1         1.0000          0          0      0.000       1.000       1.000\n",
       "beta.2        -7.8521      1.406     -5.583      0.000     -10.609      -5.096\n",
       "const       2540.1941   1161.551      2.187      0.029     263.595    4816.793\n",
       "lin_trend      3.3508      1.022      3.277      0.001       1.347       5.355\n",
       "==============================================================================\n",
       "\"\"\""
      ]
     },
     "execution_count": 41,
     "metadata": {},
     "output_type": "execute_result"
    }
   ],
   "source": [
    "res_vecm = VECM(df[['nifty','sp500']], coint_rank = 1, k_ar_diff = 14, deterministic = 'cili')\n",
    "res_vecm_fit = res_vecm.fit()\n",
    "res_vecm_fit.summary()"
   ]
  },
  {
   "cell_type": "code",
   "execution_count": 44,
   "metadata": {},
   "outputs": [
    {
     "data": {
      "text/plain": [
       "array([[-181.59347031,   14.5736674 ],\n",
       "       [ 266.4216201 ,  -22.25044199],\n",
       "       [ -87.69940382,   25.27140932],\n",
       "       ...,\n",
       "       [ -58.80478362,    7.06359845],\n",
       "       [  44.88476376,   14.73591845],\n",
       "       [ -46.0981913 ,  -11.02272091]])"
      ]
     },
     "execution_count": 44,
     "metadata": {},
     "output_type": "execute_result"
    }
   ],
   "source": [
    "res_vecm_fit.resid"
   ]
  },
  {
   "cell_type": "code",
   "execution_count": 213,
   "metadata": {},
   "outputs": [
    {
     "data": {
      "text/plain": [
       "array([195.97072409, 130.83870659,  74.87175486,  47.38475454,\n",
       "        23.40385276,   9.69682259,   3.04849616])"
      ]
     },
     "execution_count": 213,
     "metadata": {},
     "output_type": "execute_result"
    }
   ],
   "source": [
    "res_johansen = coint_johansen(df[['nifty', 'sp500','hangseng','sing_sti','shanghai_comp','uk_100','nikkei']], det_order = 1, k_ar_diff = 57)\n",
    "res_johansen.trace_stat"
   ]
  },
  {
   "cell_type": "code",
   "execution_count": 214,
   "metadata": {},
   "outputs": [
    {
     "data": {
      "text/plain": [
       "array([[133.7852, 139.278 , 150.0778],\n",
       "       [102.4674, 107.3429, 116.9829],\n",
       "       [ 75.1027,  79.3422,  87.7748],\n",
       "       [ 51.6492,  55.2459,  62.5202],\n",
       "       [ 32.0645,  35.0116,  41.0815],\n",
       "       [ 16.1619,  18.3985,  23.1485],\n",
       "       [  2.7055,   3.8415,   6.6349]])"
      ]
     },
     "execution_count": 214,
     "metadata": {},
     "output_type": "execute_result"
    }
   ],
   "source": [
    "res_johansen.trace_stat_crit_vals"
   ]
  },
  {
   "cell_type": "code",
   "execution_count": 307,
   "metadata": {},
   "outputs": [
    {
     "data": {
      "text/html": [
       "<table class=\"simpletable\">\n",
       "<caption>Granger causality F-test. H_0: nikkei does not Granger-cause nifty. Conclusion: reject H_0 at 5% significance level.</caption>\n",
       "<tr>\n",
       "  <th>Test statistic</th> <th>Critical value</th> <th>p-value</th>     <th>df</th>    \n",
       "</tr>\n",
       "<tr>\n",
       "       <td>2.037</td>          <td>1.327</td>      <td>0.000</td>  <td>(58, 3682)</td>\n",
       "</tr>\n",
       "</table>"
      ],
      "text/plain": [
       "<class 'statsmodels.iolib.table.SimpleTable'>"
      ]
     },
     "execution_count": 307,
     "metadata": {},
     "output_type": "execute_result"
    }
   ],
   "source": [
    "res_vecm_fit.test_granger_causality('nifty', 'nikkei').summary()"
   ]
  },
  {
   "cell_type": "code",
   "execution_count": 139,
   "metadata": {},
   "outputs": [
    {
     "data": {
      "text/plain": [
       "array([], shape=(3, 0), dtype=float64)"
      ]
     },
     "execution_count": 139,
     "metadata": {},
     "output_type": "execute_result"
    }
   ],
   "source": [
    "res_vecm_fit.lin_trend"
   ]
  },
  {
   "cell_type": "code",
   "execution_count": 37,
   "metadata": {
    "scrolled": true
   },
   "outputs": [
    {
     "data": {
      "text/html": [
       "<table class=\"simpletable\">\n",
       "<caption>Granger causality F-test. H_0: sp500 does not Granger-cause nifty. Conclusion: reject H_0 at 5% significance level.</caption>\n",
       "<tr>\n",
       "  <th>Test statistic</th> <th>Critical value</th> <th>p-value</th>    <th>df</th>    \n",
       "</tr>\n",
       "<tr>\n",
       "       <td>103.5</td>          <td>2.997</td>      <td>0.000</td>  <td>(2, 6188)</td>\n",
       "</tr>\n",
       "</table>"
      ],
      "text/plain": [
       "<class 'statsmodels.iolib.table.SimpleTable'>"
      ]
     },
     "execution_count": 37,
     "metadata": {},
     "output_type": "execute_result"
    }
   ],
   "source": [
    "res_vecm_fit.test_granger_causality('nifty','sp500').summary()"
   ]
  },
  {
   "cell_type": "code",
   "execution_count": 69,
   "metadata": {},
   "outputs": [
    {
     "data": {
      "text/plain": [
       "0.05"
      ]
     },
     "execution_count": 69,
     "metadata": {},
     "output_type": "execute_result"
    }
   ],
   "source": [
    "res_vecm.test_granger_causality('sp500','nifty').signif"
   ]
  },
  {
   "cell_type": "code",
   "execution_count": 39,
   "metadata": {},
   "outputs": [
    {
     "data": {
      "text/plain": [
       "(32.15152707257624,\n",
       " 1.0432408968287028e-07,\n",
       " -0.3317670466336413,\n",
       " 2.4243619567698858)"
      ]
     },
     "execution_count": 39,
     "metadata": {},
     "output_type": "execute_result"
    }
   ],
   "source": [
    "sm.stats.stattools.jarque_bera(sing_sti['Close'].iloc[2000:3000])"
   ]
  },
  {
   "cell_type": "code",
   "execution_count": 37,
   "metadata": {},
   "outputs": [
    {
     "data": {
      "text/plain": [
       "(69.4100609218246,\n",
       " 8.468310558754018e-16,\n",
       " -0.3512435155253594,\n",
       " 1.9172472889300451)"
      ]
     },
     "execution_count": 37,
     "metadata": {},
     "output_type": "execute_result"
    }
   ],
   "source": [
    "sm.stats.stattools.jarque_bera(nifty['Close'].iloc[2000:3000])"
   ]
  },
  {
   "cell_type": "code",
   "execution_count": 38,
   "metadata": {},
   "outputs": [
    {
     "data": {
      "text/plain": [
       "(61.13924086350345,\n",
       " 5.2939828811375316e-14,\n",
       " -0.22901723063325205,\n",
       " 1.8785963202234504)"
      ]
     },
     "execution_count": 38,
     "metadata": {},
     "output_type": "execute_result"
    }
   ],
   "source": [
    "sm.stats.stattools.jarque_bera(sp500['Close'].iloc[2000:3000])"
   ]
  },
  {
   "cell_type": "code",
   "execution_count": 40,
   "metadata": {},
   "outputs": [
    {
     "data": {
      "text/plain": [
       "(42.54783974774485,\n",
       " 5.765725872724096e-10,\n",
       " -0.27798926018197134,\n",
       " 2.156177720820434)"
      ]
     },
     "execution_count": 40,
     "metadata": {},
     "output_type": "execute_result"
    }
   ],
   "source": [
    "sm.stats.stattools.jarque_bera(hangseng['Close'].iloc[2000:3000])"
   ]
  },
  {
   "cell_type": "code",
   "execution_count": 43,
   "metadata": {},
   "outputs": [
    {
     "data": {
      "text/plain": [
       "(12.738941189136904,\n",
       " 0.0017130658919350867,\n",
       " -0.14779043075019202,\n",
       " 2.5327029393908234)"
      ]
     },
     "execution_count": 43,
     "metadata": {},
     "output_type": "execute_result"
    }
   ],
   "source": [
    "sm.stats.stattools.jarque_bera(shanghai_comp['Close'].iloc[2000:3000])"
   ]
  },
  {
   "cell_type": "code",
   "execution_count": 42,
   "metadata": {},
   "outputs": [
    {
     "data": {
      "text/plain": [
       "(213.86610736210878,\n",
       " 3.627144463983783e-47,\n",
       " -1.1110790388597487,\n",
       " 3.441361591347275)"
      ]
     },
     "execution_count": 42,
     "metadata": {},
     "output_type": "execute_result"
    }
   ],
   "source": [
    "sm.stats.stattools.jarque_bera(uk_100['Close'].iloc[2000:3000])"
   ]
  },
  {
   "cell_type": "code",
   "execution_count": 41,
   "metadata": {},
   "outputs": [
    {
     "data": {
      "text/plain": [
       "(70.55096028199931,\n",
       " 4.786891989718693e-16,\n",
       " -0.45462445108029,\n",
       " 2.069145832749424)"
      ]
     },
     "execution_count": 41,
     "metadata": {},
     "output_type": "execute_result"
    }
   ],
   "source": [
    "sm.stats.stattools.jarque_bera(nikkei['Close'].iloc[2000:3000])"
   ]
  },
  {
   "cell_type": "code",
   "execution_count": 121,
   "metadata": {},
   "outputs": [
    {
     "data": {
      "text/plain": [
       "array([[1.        , 0.22824561],\n",
       "       [0.22824561, 1.        ]])"
      ]
     },
     "execution_count": 121,
     "metadata": {},
     "output_type": "execute_result"
    }
   ],
   "source": [
    "np.corrcoef(sp500['pct_chg'].iloc[2002:3002], nifty['pct_chg'].iloc[2002:3002])"
   ]
  },
  {
   "cell_type": "code",
   "execution_count": 59,
   "metadata": {},
   "outputs": [
    {
     "data": {
      "text/plain": [
       "9.204503249610049e-05"
      ]
     },
     "execution_count": 59,
     "metadata": {},
     "output_type": "execute_result"
    }
   ],
   "source": [
    "sm.stats.stattools.durbin_watson(sing_sti['Close'].iloc[:])"
   ]
  },
  {
   "cell_type": "code",
   "execution_count": 60,
   "metadata": {},
   "outputs": [
    {
     "data": {
      "text/plain": [
       "0.00018165511257783504"
      ]
     },
     "execution_count": 60,
     "metadata": {},
     "output_type": "execute_result"
    }
   ],
   "source": [
    "sm.stats.stattools.durbin_watson(hangseng['Close'].iloc[:])"
   ]
  },
  {
   "cell_type": "code",
   "execution_count": 63,
   "metadata": {},
   "outputs": [
    {
     "data": {
      "text/plain": [
       "0.0002903971288316584"
      ]
     },
     "execution_count": 63,
     "metadata": {},
     "output_type": "execute_result"
    }
   ],
   "source": [
    "sm.stats.stattools.durbin_watson(shanghai_comp['Close'].iloc[:])"
   ]
  },
  {
   "cell_type": "code",
   "execution_count": 61,
   "metadata": {},
   "outputs": [
    {
     "data": {
      "text/plain": [
       "0.00011543336368675091"
      ]
     },
     "execution_count": 61,
     "metadata": {},
     "output_type": "execute_result"
    }
   ],
   "source": [
    "sm.stats.stattools.durbin_watson(uk_100['Close'].iloc[:])"
   ]
  },
  {
   "cell_type": "code",
   "execution_count": 62,
   "metadata": {},
   "outputs": [
    {
     "data": {
      "text/plain": [
       "0.0001841134319722001"
      ]
     },
     "execution_count": 62,
     "metadata": {},
     "output_type": "execute_result"
    }
   ],
   "source": [
    "sm.stats.stattools.durbin_watson(nikkei['Close'].iloc[:])"
   ]
  },
  {
   "cell_type": "code",
   "execution_count": 205,
   "metadata": {},
   "outputs": [
    {
     "data": {
      "text/plain": [
       "(-10.241189051163243,\n",
       " 6.148904301732664e-17,\n",
       " array([-3.90743646, -3.34225305, -3.04869817]))"
      ]
     },
     "execution_count": 205,
     "metadata": {},
     "output_type": "execute_result"
    }
   ],
   "source": [
    "tsa.stattools.coint(df['nifty'].iloc[0:1000], df['sp500'].iloc[0:1000])"
   ]
  },
  {
   "cell_type": "code",
   "execution_count": 152,
   "metadata": {
    "scrolled": true
   },
   "outputs": [
    {
     "data": {
      "image/png": "[encoded data removed]",
      "text/plain": [
       "<Figure size 842.4x595.44 with 1 Axes>"
      ]
     },
     "metadata": {},
     "output_type": "display_data"
    }
   ],
   "source": [
    "sns.set(style = 'whitegrid')\n",
    "\n",
    "sns.set(rc={'figure.figsize':(11.7,8.27)})\n",
    "plot = sns.lineplot(data=df_1, palette=\"BrBG\", linewidth=.5, dashes = False)\n",
    "plot.set(xlabel = 'Date', ylabel = 'Log Daily Returns')\n",
    "plot = plot.get_figure()\n",
    "plot.savefig('output.png')"
   ]
  },
  {
   "cell_type": "code",
   "execution_count": 6,
   "metadata": {},
   "outputs": [
    {
     "name": "stderr",
     "output_type": "stream",
     "text": [
      "D:\\Anaconda3\\lib\\site-packages\\pandas\\core\\series.py:679: RuntimeWarning: divide by zero encountered in log\n",
      "  result = getattr(ufunc, method)(*inputs, **kwargs)\n",
      "D:\\Anaconda3\\lib\\site-packages\\pandas\\core\\series.py:679: RuntimeWarning: invalid value encountered in log\n",
      "  result = getattr(ufunc, method)(*inputs, **kwargs)\n"
     ]
    }
   ],
   "source": [
    "df_1 = pd.DataFrame()\n",
    "df_1['nifty'] = ready_data(df['nifty'], 'pct_chg')\n",
    "df_1['sp500'] = ready_data(df['sp500'], 'pct_chg')\n",
    "df_1['hangseng'] = ready_data(df['hangseng'], 'pct_chg')\n",
    "df_1['sing_sti'] = ready_data(df['sing_sti'], 'pct_chg')\n",
    "df_1['shanghai_comp'] = ready_data(df['shanghai_comp'], 'pct_chg')\n",
    "df_1['uk_100'] = ready_data(df['uk_100'], 'pct_chg')\n",
    "df_1['nikkei'] = ready_data(df['nikkei'], 'pct_chg')\n",
    "\n",
    "df_1 = df_1.replace([np.inf, -np.inf], np.nan).dropna()"
   ]
  },
  {
   "cell_type": "code",
   "execution_count": 54,
   "metadata": {},
   "outputs": [
    {
     "data": {
      "text/html": [
       "<div>\n",
       "<style scoped>\n",
       "    .dataframe tbody tr th:only-of-type {\n",
       "        vertical-align: middle;\n",
       "    }\n",
       "\n",
       "    .dataframe tbody tr th {\n",
       "        vertical-align: top;\n",
       "    }\n",
       "\n",
       "    .dataframe thead th {\n",
       "        text-align: right;\n",
       "    }\n",
       "</style>\n",
       "<table border=\"1\" class=\"dataframe\">\n",
       "  <thead>\n",
       "    <tr style=\"text-align: right;\">\n",
       "      <th></th>\n",
       "      <th>nifty</th>\n",
       "      <th>sp500</th>\n",
       "      <th>hangseng</th>\n",
       "      <th>sing_sti</th>\n",
       "      <th>shanghai_comp</th>\n",
       "      <th>uk_100</th>\n",
       "      <th>nikkei</th>\n",
       "    </tr>\n",
       "    <tr>\n",
       "      <th>Date</th>\n",
       "      <th></th>\n",
       "      <th></th>\n",
       "      <th></th>\n",
       "      <th></th>\n",
       "      <th></th>\n",
       "      <th></th>\n",
       "      <th></th>\n",
       "    </tr>\n",
       "  </thead>\n",
       "  <tbody>\n",
       "    <tr>\n",
       "      <th>2008-01-07</th>\n",
       "      <td>-2.570370</td>\n",
       "      <td>-1.132192</td>\n",
       "      <td>0.617797</td>\n",
       "      <td>-1.673858</td>\n",
       "      <td>-0.523318</td>\n",
       "      <td>-1.113832</td>\n",
       "      <td>-1.640290</td>\n",
       "    </tr>\n",
       "    <tr>\n",
       "      <th>2008-01-08</th>\n",
       "      <td>-1.970758</td>\n",
       "      <td>0.309254</td>\n",
       "      <td>0.617797</td>\n",
       "      <td>-1.673858</td>\n",
       "      <td>-0.088763</td>\n",
       "      <td>-1.113832</td>\n",
       "      <td>-1.640290</td>\n",
       "    </tr>\n",
       "    <tr>\n",
       "      <th>2008-01-09</th>\n",
       "      <td>-0.355486</td>\n",
       "      <td>0.309254</td>\n",
       "      <td>0.617797</td>\n",
       "      <td>-1.673858</td>\n",
       "      <td>-0.088763</td>\n",
       "      <td>-1.510061</td>\n",
       "      <td>-0.723096</td>\n",
       "    </tr>\n",
       "    <tr>\n",
       "      <th>2008-01-16</th>\n",
       "      <td>1.825680</td>\n",
       "      <td>0.762775</td>\n",
       "      <td>0.999335</td>\n",
       "      <td>0.978623</td>\n",
       "      <td>-0.578747</td>\n",
       "      <td>1.558365</td>\n",
       "      <td>0.725424</td>\n",
       "    </tr>\n",
       "    <tr>\n",
       "      <th>2008-01-17</th>\n",
       "      <td>1.825680</td>\n",
       "      <td>0.762775</td>\n",
       "      <td>0.999335</td>\n",
       "      <td>0.978623</td>\n",
       "      <td>-0.578747</td>\n",
       "      <td>1.558365</td>\n",
       "      <td>0.725424</td>\n",
       "    </tr>\n",
       "    <tr>\n",
       "      <th>...</th>\n",
       "      <td>...</td>\n",
       "      <td>...</td>\n",
       "      <td>...</td>\n",
       "      <td>...</td>\n",
       "      <td>...</td>\n",
       "      <td>...</td>\n",
       "      <td>...</td>\n",
       "    </tr>\n",
       "    <tr>\n",
       "      <th>2011-12-06</th>\n",
       "      <td>-0.764944</td>\n",
       "      <td>-2.202062</td>\n",
       "      <td>0.454288</td>\n",
       "      <td>0.191948</td>\n",
       "      <td>-1.226837</td>\n",
       "      <td>-4.294051</td>\n",
       "      <td>0.539046</td>\n",
       "    </tr>\n",
       "    <tr>\n",
       "      <th>2011-12-08</th>\n",
       "      <td>-0.280280</td>\n",
       "      <td>0.523743</td>\n",
       "      <td>0.360642</td>\n",
       "      <td>-1.330927</td>\n",
       "      <td>0.700502</td>\n",
       "      <td>-0.187985</td>\n",
       "      <td>0.318315</td>\n",
       "    </tr>\n",
       "    <tr>\n",
       "      <th>2011-12-09</th>\n",
       "      <td>-0.280280</td>\n",
       "      <td>0.523743</td>\n",
       "      <td>0.360642</td>\n",
       "      <td>-1.330927</td>\n",
       "      <td>0.700502</td>\n",
       "      <td>-0.187985</td>\n",
       "      <td>0.318315</td>\n",
       "    </tr>\n",
       "    <tr>\n",
       "      <th>2011-12-12</th>\n",
       "      <td>-0.280280</td>\n",
       "      <td>-1.126055</td>\n",
       "      <td>0.360642</td>\n",
       "      <td>-1.330927</td>\n",
       "      <td>0.700502</td>\n",
       "      <td>0.137671</td>\n",
       "      <td>0.318315</td>\n",
       "    </tr>\n",
       "    <tr>\n",
       "      <th>2011-12-13</th>\n",
       "      <td>-0.280280</td>\n",
       "      <td>-1.126055</td>\n",
       "      <td>0.360642</td>\n",
       "      <td>-0.094760</td>\n",
       "      <td>0.700502</td>\n",
       "      <td>0.137671</td>\n",
       "      <td>-1.235587</td>\n",
       "    </tr>\n",
       "  </tbody>\n",
       "</table>\n",
       "<p>670 rows × 7 columns</p>\n",
       "</div>"
      ],
      "text/plain": [
       "               nifty     sp500  hangseng  sing_sti  shanghai_comp    uk_100  \\\n",
       "Date                                                                          \n",
       "2008-01-07 -2.570370 -1.132192  0.617797 -1.673858      -0.523318 -1.113832   \n",
       "2008-01-08 -1.970758  0.309254  0.617797 -1.673858      -0.088763 -1.113832   \n",
       "2008-01-09 -0.355486  0.309254  0.617797 -1.673858      -0.088763 -1.510061   \n",
       "2008-01-16  1.825680  0.762775  0.999335  0.978623      -0.578747  1.558365   \n",
       "2008-01-17  1.825680  0.762775  0.999335  0.978623      -0.578747  1.558365   \n",
       "...              ...       ...       ...       ...            ...       ...   \n",
       "2011-12-06 -0.764944 -2.202062  0.454288  0.191948      -1.226837 -4.294051   \n",
       "2011-12-08 -0.280280  0.523743  0.360642 -1.330927       0.700502 -0.187985   \n",
       "2011-12-09 -0.280280  0.523743  0.360642 -1.330927       0.700502 -0.187985   \n",
       "2011-12-12 -0.280280 -1.126055  0.360642 -1.330927       0.700502  0.137671   \n",
       "2011-12-13 -0.280280 -1.126055  0.360642 -0.094760       0.700502  0.137671   \n",
       "\n",
       "              nikkei  \n",
       "Date                  \n",
       "2008-01-07 -1.640290  \n",
       "2008-01-08 -1.640290  \n",
       "2008-01-09 -0.723096  \n",
       "2008-01-16  0.725424  \n",
       "2008-01-17  0.725424  \n",
       "...              ...  \n",
       "2011-12-06  0.539046  \n",
       "2011-12-08  0.318315  \n",
       "2011-12-09  0.318315  \n",
       "2011-12-12  0.318315  \n",
       "2011-12-13 -1.235587  \n",
       "\n",
       "[670 rows x 7 columns]"
      ]
     },
     "execution_count": 54,
     "metadata": {},
     "output_type": "execute_result"
    }
   ],
   "source": [
    "df_1"
   ]
  },
  {
   "cell_type": "code",
   "execution_count": 7,
   "metadata": {},
   "outputs": [
    {
     "name": "stderr",
     "output_type": "stream",
     "text": [
      "D:\\Anaconda3\\lib\\site-packages\\statsmodels\\tsa\\base\\tsa_model.py:218: ValueWarning: A date index has been provided, but it has no associated frequency information and so will be ignored when e.g. forecasting.\n",
      "  ' ignored when e.g. forecasting.', ValueWarning)\n"
     ]
    },
    {
     "name": "stdout",
     "output_type": "stream",
     "text": [
      "\n",
      "\n",
      "Max eigenvalue = 0.9900\n",
      "Penalty = 0.0000\n",
      "\n",
      "A =\n",
      "[[0.3 0. ]\n",
      " [0.  0.3]]\n",
      "B =\n",
      "[[0.9486833 0.       ]\n",
      " [0.        0.9486833]]\n",
      "C =\n",
      "[[0.1 0. ]\n",
      " [0.  0.1]]\n",
      "\n",
      "Unconditional variance =\n",
      "[[1. 0.]\n",
      " [0. 1.]]\n",
      "\n"
     ]
    }
   ],
   "source": [
    "res_var = VAR(df_1[['nifty','sp500']])\n",
    "#res_var.endog_names\n",
    "res_var_fit = res_var.fit(maxlags = 15, ic = 'aic', trend = 'ct')\n",
    "use_target = False\n",
    "restriction = 'diagonal'\n",
    "nstocks = 2\n",
    "nobs = len(df_1)\n",
    "    # A, B, C - n x n matrices\n",
    "amat = np.eye(nstocks) * .09**.5\n",
    "bmat = np.eye(nstocks) * .9**.5\n",
    "target = np.eye(nstocks)\n",
    "param_true = bekk.ParamStandard.from_target(amat=amat, bmat=bmat, target=target)\n",
    "print(param_true)\n",
    "bekk_res = bekk.bekk_estimation.BEKK(res_var_fit.resid.to_numpy())\n",
    "bekk_estimate = bekk_res.estimate(use_target = use_target, restriction = restriction)"
   ]
  },
  {
   "cell_type": "code",
   "execution_count": 8,
   "metadata": {},
   "outputs": [
    {
     "data": {
      "text/plain": [
       "============================================================\n",
       "Model: standard\n",
       "Restriction: diagonal\n",
       "Use target: False\n",
       "Matrix C is free: False\n",
       "Number of parameters: 7\n",
       "Iterations = 16\n",
       "Optimization method = SLSQP\n",
       "Optimization time = 3.6 s\n",
       "\n",
       "Final parameters:\n",
       "\n",
       "Max eigenvalue = 0.3606\n",
       "Penalty = 23031.5318\n",
       "\n",
       "A =\n",
       "[[0.3618199  0.        ]\n",
       " [0.         0.38263515]]\n",
       "B =\n",
       "[[0.47927305 0.        ]\n",
       " [0.         0.17536465]]\n",
       "C =\n",
       "[[0.82269868 0.        ]\n",
       " [0.08783777 1.05114429]]\n",
       "\n",
       "Unconditional variance =\n",
       "[[1.05857111 0.09294318]\n",
       " [0.09294318 1.35217424]]\n",
       "\n",
       "Variance target:\n",
       "[[1.07717305 0.10414089]\n",
       " [0.10414089 1.34912958]]\n",
       "\n",
       "Final log-likelihood (with penalty) = -4721.69\n",
       "Final log-likelihood = 18309.84\n",
       "============================================================"
      ]
     },
     "execution_count": 8,
     "metadata": {},
     "output_type": "execute_result"
    }
   ],
   "source": [
    "bekk_estimate"
   ]
  },
  {
   "cell_type": "code",
   "execution_count": 16,
   "metadata": {},
   "outputs": [
    {
     "data": {
      "text/plain": [
       "<bound method BEKK.likelihood of <bekk.bekk_estimation.BEKK object at 0x0000020DE63F1F88>>"
      ]
     },
     "execution_count": 16,
     "metadata": {},
     "output_type": "execute_result"
    }
   ],
   "source": [
    "bekk_res.likelihood"
   ]
  },
  {
   "cell_type": "code",
   "execution_count": null,
   "metadata": {},
   "outputs": [],
   "source": []
  },
  {
   "cell_type": "code",
   "execution_count": null,
   "metadata": {},
   "outputs": [],
   "source": []
  },
  {
   "cell_type": "code",
   "execution_count": null,
   "metadata": {},
   "outputs": [],
   "source": []
  }
 ],
 "metadata": {
  "kernelspec": {
   "display_name": "Python 3",
   "language": "python",
   "name": "python3"
  },
  "language_info": {
   "codemirror_mode": {
    "name": "ipython",
    "version": 3
   },
   "file_extension": ".py",
   "mimetype": "text/x-python",
   "name": "python",
   "nbconvert_exporter": "python",
   "pygments_lexer": "ipython3",
   "version": "3.7.7"
  }
 },
 "nbformat": 4,
 "nbformat_minor": 4
}
